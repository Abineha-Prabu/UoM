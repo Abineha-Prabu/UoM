{
 "cells": [
  {
   "cell_type": "code",
   "execution_count": null,
   "id": "12a7dc39-cf65-4d05-bf48-025e9a70a4eb",
   "metadata": {},
   "outputs": [],
   "source": [
    "# Python 3.10.12 +\n",
    "# SQLite Version 3.37.2"
   ]
  },
  {
   "cell_type": "code",
   "execution_count": 3,
   "id": "3f014688-40dc-47d2-a119-6f8a1024db01",
   "metadata": {},
   "outputs": [
    {
     "name": "stdout",
     "output_type": "stream",
     "text": [
      "Python 3.12.3\n"
     ]
    }
   ],
   "source": [
    "!python --version"
   ]
  },
  {
   "cell_type": "code",
   "execution_count": 7,
   "id": "959ce146-4c5a-49d8-8667-d3e463699c32",
   "metadata": {},
   "outputs": [
    {
     "data": {
      "text/plain": [
       "'3.45.3'"
      ]
     },
     "execution_count": 7,
     "metadata": {},
     "output_type": "execute_result"
    }
   ],
   "source": [
    "import sqlite3\n",
    "sqlite3.sqlite_version"
   ]
  },
  {
   "cell_type": "code",
   "execution_count": null,
   "id": "57e5c2db-0ce3-489b-ae42-1e4016af3a2e",
   "metadata": {},
   "outputs": [],
   "source": []
  },
  {
   "cell_type": "markdown",
   "id": "77a9c9eb-d9b0-4278-b44e-6a0868525d54",
   "metadata": {},
   "source": [
    "# WORKSHOP TRIAL"
   ]
  },
  {
   "cell_type": "code",
   "execution_count": null,
   "id": "dfa8f934-8fe2-49b9-b1fd-db64b8b02602",
   "metadata": {},
   "outputs": [],
   "source": []
  },
  {
   "cell_type": "code",
   "execution_count": 15,
   "id": "1a69d336-2197-42d5-b3d4-f36d63df38fd",
   "metadata": {},
   "outputs": [
    {
     "name": "stdout",
     "output_type": "stream",
     "text": [
      "[('geocode',), ('sqlite_sequence',), ('location',), ('trip',)]\n"
     ]
    }
   ],
   "source": [
    "conn = sqlite3.connect('coursework2.db')\n",
    "cursor = con.cursor()\n",
    "cursor.execute(\"SELECT name FROM sqlite_master WHERE type='table';\")\n",
    "print(cursor.fetchall())"
   ]
  },
  {
   "cell_type": "code",
   "execution_count": 19,
   "id": "d7add643-b2d7-4064-9024-fb5936c25171",
   "metadata": {},
   "outputs": [
    {
     "name": "stdout",
     "output_type": "stream",
     "text": [
      "[(1613335, 'May', 9424537, '5/21/2019 18:33', '5/21/2019 18:40', '0:07:03', '1488546', 8417864, '1901 Roma Ave NE, Albuquerque, NM 87106, USA', '1899 Roma Ave NE, Albuquerque, NM 87106, USA'), (1613639, 'May', 9424537, '5/21/2019 19:07', '5/21/2019 19:12', '0:04:57', '1488838', 8417864, '1 Domenici Center en Domenici Center, Albuquerque, NM 87106, USA', '1111 Stanford Dr NE, Albuquerque, NM 87106, USA'), (1613708, 'May', 9424537, '5/21/2019 19:13', '5/21/2019 19:15', '0:01:14', '1488851', 8417864, '1 Domenici Center en Domenici Center, Albuquerque, NM 87106, USA', '1 Domenici Center en Domenici Center, Albuquerque, NM 87106, USA'), (1613867, 'May', 9424537, '5/21/2019 19:29', '5/21/2019 19:36', '0:06:58', '1489064', 8417864, 'Rotunda at Science & Technology Park, 801 University Blvd. SE, 801 University Blvd SE, Albuquerque, NM 87106, USA', '725 University Blvd SE, Albuquerque, NM 87106, USA'), (1636714, 'May', 8926493, '5/24/2019 13:38', '5/24/2019 13:41', '0:03:06', '1511212', 35436274, '401 2nd St NW, Albuquerque, NM 87102, USA', '401 2nd St NW, Albuquerque, NM 87102, USA')]\n",
      "\n",
      "[(1613335, 'May', 9424537, '5/21/2019 18:33', '5/21/2019 18:40', '0:07:03', '1488546', 8417864, '1901 Roma Ave NE, Albuquerque, NM 87106, USA', '1899 Roma Ave NE, Albuquerque, NM 87106, USA'), (1613639, 'May', 9424537, '5/21/2019 19:07', '5/21/2019 19:12', '0:04:57', '1488838', 8417864, '1 Domenici Center en Domenici Center, Albuquerque, NM 87106, USA', '1111 Stanford Dr NE, Albuquerque, NM 87106, USA'), (1613708, 'May', 9424537, '5/21/2019 19:13', '5/21/2019 19:15', '0:01:14', '1488851', 8417864, '1 Domenici Center en Domenici Center, Albuquerque, NM 87106, USA', '1 Domenici Center en Domenici Center, Albuquerque, NM 87106, USA'), (1613867, 'May', 9424537, '5/21/2019 19:29', '5/21/2019 19:36', '0:06:58', '1489064', 8417864, 'Rotunda at Science & Technology Park, 801 University Blvd. SE, 801 University Blvd SE, Albuquerque, NM 87106, USA', '725 University Blvd SE, Albuquerque, NM 87106, USA'), (1636714, 'May', 8926493, '5/24/2019 13:38', '5/24/2019 13:41', '0:03:06', '1511212', 35436274, '401 2nd St NW, Albuquerque, NM 87102, USA', '401 2nd St NW, Albuquerque, NM 87102, USA')]\n",
      "\n",
      "[(1613335, 'May', 9424537, '5/21/2019 18:33', '5/21/2019 18:40', '0:07:03', '1488546', 8417864, '1901 Roma Ave NE, Albuquerque, NM 87106, USA', '1899 Roma Ave NE, Albuquerque, NM 87106, USA'), (1613639, 'May', 9424537, '5/21/2019 19:07', '5/21/2019 19:12', '0:04:57', '1488838', 8417864, '1 Domenici Center en Domenici Center, Albuquerque, NM 87106, USA', '1111 Stanford Dr NE, Albuquerque, NM 87106, USA'), (1613708, 'May', 9424537, '5/21/2019 19:13', '5/21/2019 19:15', '0:01:14', '1488851', 8417864, '1 Domenici Center en Domenici Center, Albuquerque, NM 87106, USA', '1 Domenici Center en Domenici Center, Albuquerque, NM 87106, USA'), (1613867, 'May', 9424537, '5/21/2019 19:29', '5/21/2019 19:36', '0:06:58', '1489064', 8417864, 'Rotunda at Science & Technology Park, 801 University Blvd. SE, 801 University Blvd SE, Albuquerque, NM 87106, USA', '725 University Blvd SE, Albuquerque, NM 87106, USA'), (1681624, 'May', 8192169, '5/27/2019 1:11', '5/27/2019 1:11', '0:00:12', '1554217', 8417864, '2513 Comanche Rd NE, Albuquerque, NM 87107, USA', '2513 Comanche Rd NE, Albuquerque, NM 87107, USA')]\n"
     ]
    }
   ],
   "source": [
    "cursor.execute(\"SELECT * FROM trip\")\n",
    "result = cursor.fetchall()\n",
    "print(result[:5])\n",
    "print()\n",
    "cursor.execute(\"SELECT * FROM trip WHERE LOWER(month) == 'may' LIMIT 5\")\n",
    "result = cursor.fetchall()\n",
    "print(result[:5])\n",
    "print()\n",
    "cursor.execute(\"SELECT * FROM trip WHERE user_id == 8417864 LIMIT 5\")\n",
    "result = cursor.fetchall()\n",
    "print(result[:5])\n",
    "conn.close()\n",
    "\n",
    "\n"
   ]
  },
  {
   "cell_type": "code",
   "execution_count": null,
   "id": "5cfceae6-d669-4f28-9c77-5e49120e90ab",
   "metadata": {},
   "outputs": [],
   "source": []
  },
  {
   "cell_type": "markdown",
   "id": "b1e47a88-1835-4b2e-bcd9-6871687fc8cb",
   "metadata": {},
   "source": [
    "# DATA EXPLORATION"
   ]
  },
  {
   "cell_type": "code",
   "execution_count": null,
   "id": "7418a890-58ff-4d00-bc41-9e14ad7fb955",
   "metadata": {},
   "outputs": [],
   "source": []
  },
  {
   "cell_type": "code",
   "execution_count": null,
   "id": "b7714e3b-f4fb-47bb-9315-1673f776041d",
   "metadata": {},
   "outputs": [],
   "source": [
    "# 1"
   ]
  },
  {
   "cell_type": "code",
   "execution_count": 2,
   "id": "694a497d-b0ee-467f-8b5d-8b93eedc82ce",
   "metadata": {},
   "outputs": [
    {
     "name": "stdout",
     "output_type": "stream",
     "text": [
      "Tables: [('geocode',), ('sqlite_sequence',), ('location',), ('trip',)]\n",
      "\n",
      "--- Columns in geocode ---\n",
      "geocode_id\n",
      "street\n",
      "x\n",
      "y\n",
      "\n",
      "--- Columns in sqlite_sequence ---\n",
      "name\n",
      "seq\n",
      "\n",
      "--- Columns in location ---\n",
      "location_name\n",
      "region_id\n",
      "geocode_id\n",
      "\n",
      "--- Columns in trip ---\n",
      "trip_id\n",
      "month\n",
      "vehicle_id\n",
      "started_at\n",
      "ended_at\n",
      "DURATION\n",
      "trip_ledger_id\n",
      "user_id\n",
      "start_location_name\n",
      "end_location_name\n"
     ]
    }
   ],
   "source": [
    "import sqlite3\n",
    "\n",
    "# Connect to the database\n",
    "conn = sqlite3.connect('coursework2.db')\n",
    "cursor = conn.cursor()\n",
    "\n",
    "# List all tables\n",
    "cursor.execute(\"SELECT name FROM sqlite_master WHERE type='table';\")\n",
    "tables = cursor.fetchall()\n",
    "print(\"Tables:\", tables)\n",
    "\n",
    "# Inspect column names for each table\n",
    "for table in tables:\n",
    "    table_name = table[0]\n",
    "    print(f\"\\n--- Columns in {table_name} ---\")\n",
    "    cursor.execute(f\"PRAGMA table_info({table_name});\")\n",
    "    columns = cursor.fetchall()\n",
    "    for col in columns:\n",
    "        print(col[1])\n",
    "conn.close()\n",
    "\n",
    "# The schema here is more normalized — data about trips, locations, and geocodes are stored in separate tables, which improves organization \n",
    "# and avoids redundancy. The provided schema also includes foreign keys (like geocode_id and region_id), enabling better relational queries."
   ]
  },
  {
   "cell_type": "code",
   "execution_count": null,
   "id": "5143f010-0372-4577-bf2e-69d62c8f009b",
   "metadata": {},
   "outputs": [],
   "source": [
    "# 2"
   ]
  },
  {
   "cell_type": "code",
   "execution_count": 12,
   "id": "af32a94c-fb29-49f3-a8c5-662f2e4b833e",
   "metadata": {},
   "outputs": [
    {
     "name": "stdout",
     "output_type": "stream",
     "text": [
      "(1613335, 'May', 9424537, '5/21/2019 18:33', '5/21/2019 18:40', '0:07:03', '1488546', 8417864, '1901 Roma Ave NE, Albuquerque, NM 87106, USA', '1899 Roma Ave NE, Albuquerque, NM 87106, USA')\n",
      "(1613639, 'May', 9424537, '5/21/2019 19:07', '5/21/2019 19:12', '0:04:57', '1488838', 8417864, '1 Domenici Center en Domenici Center, Albuquerque, NM 87106, USA', '1111 Stanford Dr NE, Albuquerque, NM 87106, USA')\n",
      "(1613708, 'May', 9424537, '5/21/2019 19:13', '5/21/2019 19:15', '0:01:14', '1488851', 8417864, '1 Domenici Center en Domenici Center, Albuquerque, NM 87106, USA', '1 Domenici Center en Domenici Center, Albuquerque, NM 87106, USA')\n",
      "(1613867, 'May', 9424537, '5/21/2019 19:29', '5/21/2019 19:36', '0:06:58', '1489064', 8417864, 'Rotunda at Science & Technology Park, 801 University Blvd. SE, 801 University Blvd SE, Albuquerque, NM 87106, USA', '725 University Blvd SE, Albuquerque, NM 87106, USA')\n",
      "(1636714, 'May', 8926493, '5/24/2019 13:38', '5/24/2019 13:41', '0:03:06', '1511212', 35436274, '401 2nd St NW, Albuquerque, NM 87102, USA', '401 2nd St NW, Albuquerque, NM 87102, USA')\n"
     ]
    }
   ],
   "source": [
    "import sqlite3\n",
    "\n",
    "# Connect to the database\n",
    "conn = sqlite3.connect('coursework2.db')\n",
    "cursor = conn.cursor()\n",
    "\n",
    "query_may = \"SELECT * FROM trip WHERE LOWER(month) == 'may' LIMIT 5\"\n",
    "\n",
    "cursor.execute(query_may)\n",
    "for row in cursor.fetchall():\n",
    "    print(row)\n",
    "    \n",
    "conn.close()\n"
   ]
  },
  {
   "cell_type": "code",
   "execution_count": null,
   "id": "13d99f8f-2744-4ee7-8660-17fb142a0dc7",
   "metadata": {},
   "outputs": [],
   "source": [
    "# 3"
   ]
  },
  {
   "cell_type": "code",
   "execution_count": 17,
   "id": "35afee6d-f87d-4910-801d-45e237b88435",
   "metadata": {},
   "outputs": [
    {
     "name": "stdout",
     "output_type": "stream",
     "text": [
      "(1613335, 'May', 9424537, '5/21/2019 18:33', '5/21/2019 18:40', '0:07:03', '1488546', 8417864, '1901 Roma Ave NE, Albuquerque, NM 87106, USA', '1899 Roma Ave NE, Albuquerque, NM 87106, USA')\n",
      "(1613639, 'May', 9424537, '5/21/2019 19:07', '5/21/2019 19:12', '0:04:57', '1488838', 8417864, '1 Domenici Center en Domenici Center, Albuquerque, NM 87106, USA', '1111 Stanford Dr NE, Albuquerque, NM 87106, USA')\n",
      "(1613708, 'May', 9424537, '5/21/2019 19:13', '5/21/2019 19:15', '0:01:14', '1488851', 8417864, '1 Domenici Center en Domenici Center, Albuquerque, NM 87106, USA', '1 Domenici Center en Domenici Center, Albuquerque, NM 87106, USA')\n",
      "(1613867, 'May', 9424537, '5/21/2019 19:29', '5/21/2019 19:36', '0:06:58', '1489064', 8417864, 'Rotunda at Science & Technology Park, 801 University Blvd. SE, 801 University Blvd SE, Albuquerque, NM 87106, USA', '725 University Blvd SE, Albuquerque, NM 87106, USA')\n",
      "(1681624, 'May', 8192169, '5/27/2019 1:11', '5/27/2019 1:11', '0:00:12', '1554217', 8417864, '2513 Comanche Rd NE, Albuquerque, NM 87107, USA', '2513 Comanche Rd NE, Albuquerque, NM 87107, USA')\n"
     ]
    }
   ],
   "source": [
    "import sqlite3\n",
    "\n",
    "# Connect to the database\n",
    "conn = sqlite3.connect('coursework2.db')\n",
    "cursor = conn.cursor()\n",
    "\n",
    "query_user = \"SELECT * FROM trip WHERE user_id == 8417864 LIMIT 5\"\n",
    "\n",
    "cursor.execute(query_user)\n",
    "for row in cursor.fetchall():\n",
    "    print(row)\n",
    "    \n",
    "conn.close()\n"
   ]
  },
  {
   "cell_type": "code",
   "execution_count": null,
   "id": "b6d9d98b-5744-4746-9dbb-7cbb637dbebc",
   "metadata": {},
   "outputs": [],
   "source": [
    "# 4 "
   ]
  },
  {
   "cell_type": "code",
   "execution_count": 27,
   "id": "381b1afd-174b-4cb5-a3eb-14f3502a5c7a",
   "metadata": {},
   "outputs": [
    {
     "name": "stdout",
     "output_type": "stream",
     "text": [
      "('1898 Mountain Rd NW, Albuquerque, NM 87104, USA', 1210)\n",
      "('Central @ Tingley, Albuquerque, NM 87104, USA', 920)\n",
      "('2550 Central Ave NE, Albuquerque, NM 87106, USA', 848)\n",
      "('2901 Central Ave NE, Albuquerque, NM 87106, USA', 734)\n",
      "('330 Tijeras Ave NW, Albuquerque, NM 87102, USA', 671)\n",
      "\n",
      "(0.15932332145152808,)\n",
      "\n",
      "(1764089, '99:13:14', '2550 Central Ave NE, Albuquerque, NM 87106, USA', '')\n",
      "(1768579, '97:43:49', '2500 Central Ave SE, Albuquerque, NM 87106, USA', '')\n",
      "(1779171, '95:48:13', '401 3rd St NW, Albuquerque, NM 87102, USA', '')\n",
      "(2371993, '8:28:00', '1st St NW @, Central Ave NW, Albuquerque, NM 87102, United States', '')\n",
      "(1778763, '7:52:29', '313 Gold Ave SW, Albuquerque, NM 87102, USA', '400 Gold Ave SW, Albuquerque, NM 87102, USA')\n"
     ]
    }
   ],
   "source": [
    "import sqlite3\n",
    "\n",
    "# Connect to the database\n",
    "conn = sqlite3.connect('coursework2.db')\n",
    "cursor = conn.cursor()\n",
    "\n",
    "query_1 = \"\"\"SELECT start_location_name, COUNT(*) AS trip_count\n",
    "FROM trip\n",
    "GROUP BY start_location_name\n",
    "ORDER BY trip_count DESC\n",
    "LIMIT 5;\"\"\"\n",
    "\n",
    "cursor.execute(query_1)\n",
    "for row in cursor.fetchall():\n",
    "    print(row)\n",
    "\n",
    "print()\n",
    "query_2 = \"\"\"SELECT AVG(duration) AS avg_duration\n",
    "FROM trip;\"\"\"\n",
    "\n",
    "cursor.execute(query_2)\n",
    "for row in cursor.fetchall():\n",
    "    print(row)\n",
    "\n",
    "print()\n",
    "query_3 = \"\"\"SELECT trip_id, duration, start_location_name, end_location_name\n",
    "FROM trip\n",
    "ORDER BY duration DESC\n",
    "LIMIT 5;\"\"\"\n",
    "\n",
    "cursor.execute(query_3)\n",
    "for row in cursor.fetchall():\n",
    "    print(row)\n",
    "    \n",
    "conn.close()\n"
   ]
  },
  {
   "cell_type": "code",
   "execution_count": null,
   "id": "2c0e3da0-a37a-4468-a668-65dca8ffefb7",
   "metadata": {},
   "outputs": [],
   "source": [
    "# 5"
   ]
  },
  {
   "cell_type": "code",
   "execution_count": null,
   "id": "b3fe8936-7048-4b31-a843-3343790aee55",
   "metadata": {},
   "outputs": [],
   "source": [
    "# SQL-based exploration is more efficient for structured data and large datasets. \n",
    "# Queries can be executed directly within the database, reducing memory usage and improving performance. \n",
    "# It also enforces data integrity through constraints and relationships.\n",
    "\n",
    "# Python-based (CSV) exploration, using libraries like Pandas, is more flexible for data cleaning, visualization, \n",
    "# and quick manipulation. However, it’s less efficient for large datasets since all data must be loaded into memory.\n",
    "\n",
    "# In summary:\n",
    "\n",
    "# SQL advantages: speed, scalability, relational power.\n",
    "# SQL disadvantages: less flexible for complex analysis or visualization.\n",
    "\n",
    "# Python advantages: easy manipulation, integration with visualization libraries.\n",
    "# Python disadvantages: memory limitations, slower for large datasets."
   ]
  },
  {
   "cell_type": "code",
   "execution_count": null,
   "id": "40851987-26ba-4024-a653-a720cd226c76",
   "metadata": {},
   "outputs": [],
   "source": []
  },
  {
   "cell_type": "markdown",
   "id": "c0c58e5a-33c9-4497-87e1-3e0e5e6c90b4",
   "metadata": {},
   "source": [
    "# DATA CLEANING"
   ]
  },
  {
   "cell_type": "code",
   "execution_count": null,
   "id": "2cccee13-1a5a-40e8-ac62-4ca280276e35",
   "metadata": {},
   "outputs": [],
   "source": []
  },
  {
   "cell_type": "code",
   "execution_count": 31,
   "id": "a2b2970c-f1b7-4c40-8757-eca5d1e0333d",
   "metadata": {},
   "outputs": [],
   "source": [
    "# 1"
   ]
  },
  {
   "cell_type": "code",
   "execution_count": 37,
   "id": "b14f7dd3-4810-4fc8-a32d-558d4869ade7",
   "metadata": {},
   "outputs": [
    {
     "name": "stdout",
     "output_type": "stream",
     "text": [
      "[('0:07:03',), ('0:04:57',), ('0:01:14',), ('0:06:58',), ('0:03:06',)]\n"
     ]
    }
   ],
   "source": [
    "import sqlite3\n",
    "\n",
    "# Connect to the database\n",
    "conn = sqlite3.connect('coursework2.db')\n",
    "cursor = conn.cursor()\n",
    "\n",
    "query= \"\"\"\n",
    "UPDATE trip\n",
    "SET duration = '00:00:00'\n",
    "WHERE duration IS NULL OR duration = '';\n",
    "\"\"\"\n",
    "\n",
    "cursor.execute(query)\n",
    "conn.commit()\n",
    "\n",
    "cursor.execute(\"SELECT duration FROM trip LIMIT 5;\")\n",
    "print(cursor.fetchall())\n",
    "conn.close()\n"
   ]
  },
  {
   "cell_type": "code",
   "execution_count": 39,
   "id": "97bfc7f6-a1ce-4fa6-a839-99abaddce0df",
   "metadata": {},
   "outputs": [],
   "source": [
    "# 2"
   ]
  },
  {
   "cell_type": "code",
   "execution_count": 45,
   "id": "403c7be2-8787-48b4-8e7c-039279d251e7",
   "metadata": {},
   "outputs": [
    {
     "name": "stdout",
     "output_type": "stream",
     "text": [
      "[('1899 Roma Ave NE, Albuquerque, NM 87106, USA',), ('1111 Stanford Dr NE, Albuquerque, NM 87106, USA',), ('1 Domenici Center en Domenici Center, Albuquerque, NM 87106, USA',), ('725 University Blvd SE, Albuquerque, NM 87106, USA',), ('401 2nd St NW, Albuquerque, NM 87102, USA',)]\n"
     ]
    }
   ],
   "source": [
    "import sqlite3\n",
    "\n",
    "# Connect to the database\n",
    "conn = sqlite3.connect('coursework2.db')\n",
    "cursor = conn.cursor()\n",
    "\n",
    "query= \"\"\"\n",
    "UPDATE trip\n",
    "SET end_location_name = 'Nothing Street'\n",
    "WHERE end_location_name IS NULL OR end_location_name = '';\n",
    "\"\"\"\n",
    "\n",
    "cursor.execute(query)\n",
    "conn.commit()\n",
    "\n",
    "cursor.execute(\"SELECT end_location_name FROM trip LIMIT 5;\")\n",
    "print(cursor.fetchall())\n",
    "conn.close()\n"
   ]
  },
  {
   "cell_type": "code",
   "execution_count": 47,
   "id": "2399f626-1497-4a62-a7cd-7544f42c78ab",
   "metadata": {},
   "outputs": [],
   "source": [
    "# 3"
   ]
  },
  {
   "cell_type": "code",
   "execution_count": 53,
   "id": "8f35a6ea-c75f-4c03-beaf-63dbae12f895",
   "metadata": {},
   "outputs": [
    {
     "name": "stdout",
     "output_type": "stream",
     "text": [
      "[('Nothing Street', None, 11)]\n"
     ]
    }
   ],
   "source": [
    "import sqlite3\n",
    "\n",
    "# Connect to the database\n",
    "conn = sqlite3.connect('coursework2.db')\n",
    "cursor = conn.cursor()\n",
    "\n",
    "# Get geocode_id for \"Nothing Street\" from geocode table\n",
    "cursor.execute(\"\"\"\n",
    "SELECT geocode_id FROM geocode\n",
    "WHERE street = 'Nothing Street';\n",
    "\"\"\")\n",
    "result = cursor.fetchone()\n",
    "\n",
    "# If \"Nothing Street\" does not exist, insert it first\n",
    "if result is None:\n",
    "    cursor.execute(\"\"\"\n",
    "    INSERT INTO geocode (street)\n",
    "    VALUES ('Nothing Street');\n",
    "    \"\"\")\n",
    "    conn.commit()\n",
    "    cursor.execute(\"\"\"\n",
    "    SELECT geocode_id FROM geocode\n",
    "    WHERE street = 'Nothing Street';\n",
    "    \"\"\")\n",
    "    result = cursor.fetchone()\n",
    "\n",
    "geocode_id = result[0]\n",
    "\n",
    "# Now insert into location table using the dynamically retrieved id\n",
    "cursor.execute(\"\"\"\n",
    "INSERT INTO location (location_name, geocode_id)\n",
    "VALUES ('Nothing Street', ?);\n",
    "\"\"\", (geocode_id,))\n",
    "\n",
    "conn.commit()\n",
    "\n",
    "# Verify\n",
    "cursor.execute(\"SELECT * FROM location WHERE location_name = 'Nothing Street';\")\n",
    "print(cursor.fetchall())\n",
    "\n",
    "conn.close()\n"
   ]
  },
  {
   "cell_type": "code",
   "execution_count": 43,
   "id": "8589852e-575d-4411-b520-5ad51ea61e47",
   "metadata": {},
   "outputs": [],
   "source": [
    "import sqlite3\n",
    "\n",
    "# Connect to the database\n",
    "conn = sqlite3.connect('coursework2.db')\n",
    "cursor = conn.cursor()\n",
    "\n",
    "# Select all rows from the location table\n",
    "cursor.execute(\"SELECT * FROM location;\")\n",
    "\n",
    "# Fetch all rows\n",
    "rows = cursor.fetchall()\n",
    "\n",
    "# Print each row nicely\n",
    "for row in rows:\n",
    "    print(row)\n",
    "\n",
    "# (Optional) Limit output to first 5 for readability\n",
    "# cursor.execute(\"SELECT * FROM location LIMIT 5;\")\n",
    "# print(cursor.fetchall())\n",
    "\n",
    "# Close connection\n",
    "conn.close()\n"
   ]
  },
  {
   "cell_type": "code",
   "execution_count": 59,
   "id": "df9bb6fd-f9d7-4368-bb62-3ae64d5ce5b7",
   "metadata": {},
   "outputs": [],
   "source": [
    "# 4 "
   ]
  },
  {
   "cell_type": "code",
   "execution_count": null,
   "id": "4487361e-3bf7-4c59-b76f-2d1ae658e1eb",
   "metadata": {},
   "outputs": [],
   "source": [
    "# SQL-based data cleaning is efficient for structured data stored in relational databases. \n",
    "# It allows direct updates within the database without loading everything into memory, which is ideal for large datasets. \n",
    "# SQL’s declarative syntax makes updates and replacements concise and consistent.\n",
    "\n",
    "# Python-based cleaning (e.g., using Pandas) is more flexible, allowing for complex transformations, regex operations, \n",
    "# and easy visualization of missing data. However, it can be slower and memory-intensive for large databases.\n",
    "\n",
    "# Summary:\n",
    "\n",
    "# SQL advantages: efficient, enforces constraints, handles large data, maintains integrity.\n",
    "# SQL disadvantages: limited transformation capabilities, harder for complex cleaning logic.\n",
    "\n",
    "# Python advantages: flexible, integrates well with analysis and visualization tools.\n",
    "# Python disadvantages: slower and memory-heavy on large datasets."
   ]
  },
  {
   "cell_type": "code",
   "execution_count": null,
   "id": "d8f03f1e-fc8a-43e4-bca9-2dd2cecc778b",
   "metadata": {},
   "outputs": [],
   "source": []
  },
  {
   "cell_type": "markdown",
   "id": "71b45276-25ad-49bb-9880-713d1a327aad",
   "metadata": {},
   "source": [
    "# DATA ANALYSIS"
   ]
  },
  {
   "cell_type": "code",
   "execution_count": null,
   "id": "3640227a-2d55-457e-80da-7e0eedbd8190",
   "metadata": {},
   "outputs": [],
   "source": []
  },
  {
   "cell_type": "code",
   "execution_count": 66,
   "id": "71e82ab5-83e0-4dfa-94c4-ca5ea7f8f560",
   "metadata": {},
   "outputs": [],
   "source": [
    "# 1 "
   ]
  },
  {
   "cell_type": "code",
   "execution_count": 45,
   "id": "18312404-9b63-469f-8151-24d6c424a39b",
   "metadata": {},
   "outputs": [],
   "source": [
    "import sqlite3\n",
    "import pandas as pd\n",
    "import numpy as np\n",
    "from collections import Counter\n",
    "\n",
    "# Connect to the database\n",
    "conn = sqlite3.connect('coursework2.db')\n",
    "cursor = conn.cursor()\n",
    "\n",
    "# Select all rows from the location table\n",
    "cursor.execute(\"SELECT * FROM location;\")\n",
    "\n",
    "# Fetch all rows\n",
    "rows = cursor.fetchall()\n",
    "\n",
    "# Print each row nicely\n",
    "for row in rows:\n",
    "    print(row)\n",
    "\n",
    "\n",
    "# Close connection\n",
    "conn.close()\n"
   ]
  },
  {
   "cell_type": "code",
   "execution_count": 92,
   "id": "8c2a00b1-95ac-4f3f-8ff8-1c51dd0645b1",
   "metadata": {},
   "outputs": [
    {
     "name": "stdout",
     "output_type": "stream",
     "text": [
      "[('1901 Roma Ave NE, Albuquerque, NM 87106, USA', '1899 Roma Ave NE, Albuquerque, NM 87106, USA', 8417864, 1613335, '0:07:03', 5), ('1 Domenici Center en Domenici Center, Albuquerque, NM 87106, USA', '1111 Stanford Dr NE, Albuquerque, NM 87106, USA', 8417864, 1613639, '0:04:57', 5), ('1 Domenici Center en Domenici Center, Albuquerque, NM 87106, USA', '1 Domenici Center en Domenici Center, Albuquerque, NM 87106, USA', 8417864, 1613708, '0:01:14', 5), ('Rotunda at Science & Technology Park, 801 University Blvd. SE, 801 University Blvd SE, Albuquerque, NM 87106, USA', '725 University Blvd SE, Albuquerque, NM 87106, USA', 8417864, 1613867, '0:06:58', 5), ('520 Central Ave SW, Albuquerque, NM 87102, USA', '3217 Pershing Ave SE, Albuquerque, NM 87106, USA', 34352757, 1636780, '0:21:27', 5)]\n"
     ]
    }
   ],
   "source": [
    "import sqlite3\n",
    "from datetime import datetime\n",
    "\n",
    "conn = sqlite3.connect('coursework2.db')\n",
    "cursor = conn.cursor()\n",
    "\n",
    "# Get the shortest trip per (start, end)\n",
    "cursor.execute(\"\"\"\n",
    "SELECT t.start_location_name,\n",
    "       t.end_location_name,\n",
    "       t.user_id,\n",
    "       t.trip_id,\n",
    "       t.duration,\n",
    "       t.started_at\n",
    "FROM trip t\n",
    "JOIN (\n",
    "    SELECT start_location_name, end_location_name, MIN(duration) AS min_dur\n",
    "    FROM trip\n",
    "    GROUP BY start_location_name, end_location_name\n",
    ") m\n",
    "ON t.start_location_name = m.start_location_name\n",
    "AND t.end_location_name = m.end_location_name\n",
    "AND t.duration = m.min_dur\n",
    "LIMIT 5;\n",
    "\"\"\")\n",
    "\n",
    "rows = cursor.fetchall()\n",
    "\n",
    "# Convert started_at to month using Python\n",
    "formatted_rows = []\n",
    "for row in rows:\n",
    "    start_loc, end_loc, user_id, trip_id, duration, started_at = row\n",
    "    try:\n",
    "        month = datetime.strptime(started_at, \"%m/%d/%Y %H:%M\").month\n",
    "    except Exception:\n",
    "        month = None\n",
    "    formatted_rows.append((start_loc, end_loc, user_id, trip_id, duration, month))\n",
    "\n",
    "print(formatted_rows)\n",
    "conn.close()\n"
   ]
  },
  {
   "cell_type": "code",
   "execution_count": 76,
   "id": "79326a19-f4fa-4be3-b364-1b355f1f9a0e",
   "metadata": {},
   "outputs": [],
   "source": [
    "# 2"
   ]
  },
  {
   "cell_type": "code",
   "execution_count": 86,
   "id": "f45eb1ab-c6a2-4be3-ad69-556aa8965466",
   "metadata": {},
   "outputs": [
    {
     "name": "stdout",
     "output_type": "stream",
     "text": [
      "[('', 'Nothing Street', '0:02:00', 420.0), ('(Albuquerque Convention Center) 2nd @ Marquette, Albuquerque, NM 87102, USA', '125 2nd St SW, Albuquerque, NM 87102, USA', '0:09:00', 540.0), ('(Albuquerque Convention Center) 2nd @ Marquette, Albuquerque, NM 87102, USA', '401 2nd St NW, Albuquerque, NM 87102, USA', '0:06:00', 360.0), ('(Albuquerque Convention Center) 2nd @ Marquette, Albuquerque, NM 87102, USA', '517 Gold Ave SW, Albuquerque, NM 87102, USA', '0:03:00', 180.0), ('(Albuquerque Convention Center) 2nd @ Marquette, Albuquerque, NM 87102, USA', 'Roma Avenue Northwest, at 2nd St NW, Albuquerque, NM 87102, United States', '0:29:00', 1740.0)]\n"
     ]
    }
   ],
   "source": [
    "import sqlite3\n",
    "\n",
    "conn = sqlite3.connect('coursework2.db')\n",
    "cursor = conn.cursor()\n",
    "\n",
    "query = \"\"\"\n",
    "SELECT start_location_name,\n",
    "       end_location_name,\n",
    "       duration,\n",
    "       AVG(\n",
    "           CAST(substr(duration, 1, instr(duration, ':')-1) AS INTEGER) * 3600 +\n",
    "           CAST(substr(duration, instr(duration, ':')+1, 2) AS INTEGER) * 60 +\n",
    "           CAST(substr(duration, -2) AS INTEGER)\n",
    "       ) AS avg_duration_seconds\n",
    "FROM trip\n",
    "GROUP BY start_location_name, end_location_name\n",
    "LIMIT 5;\n",
    "\"\"\"\n",
    "\n",
    "cursor.execute(query)\n",
    "print(cursor.fetchall())\n",
    "conn.close()\n"
   ]
  },
  {
   "cell_type": "code",
   "execution_count": 88,
   "id": "ab618998-18cf-4a4d-8d40-323f31b70acf",
   "metadata": {},
   "outputs": [],
   "source": [
    "# 3"
   ]
  },
  {
   "cell_type": "code",
   "execution_count": 94,
   "id": "c7ddf89d-b9d5-4be2-b0f7-1dec36884a95",
   "metadata": {},
   "outputs": [
    {
     "name": "stdout",
     "output_type": "stream",
     "text": [
      "('', 'Nothing Street') 360.0\n",
      "('(Albuquerque Convention Center) 2nd @ Marquette, Albuquerque, NM 87102, USA', '125 2nd St SW, Albuquerque, NM 87102, USA') 540.0\n",
      "('(Albuquerque Convention Center) 2nd @ Marquette, Albuquerque, NM 87102, USA', '401 2nd St NW, Albuquerque, NM 87102, USA') 360.0\n",
      "('(Albuquerque Convention Center) 2nd @ Marquette, Albuquerque, NM 87102, USA', '517 Gold Ave SW, Albuquerque, NM 87102, USA') 180.0\n",
      "('(Albuquerque Convention Center) 2nd @ Marquette, Albuquerque, NM 87102, USA', 'Roma Avenue Northwest, at 2nd St NW, Albuquerque, NM 87102, United States') 1740.0\n"
     ]
    }
   ],
   "source": [
    "import sqlite3\n",
    "import statistics\n",
    "\n",
    "conn = sqlite3.connect('coursework2.db')\n",
    "cursor = conn.cursor()\n",
    "\n",
    "query = \"\"\"\n",
    "SELECT start_location_name,\n",
    "       end_location_name,\n",
    "       duration\n",
    "FROM trip\n",
    "ORDER BY start_location_name, end_location_name;\n",
    "\"\"\"\n",
    "\n",
    "cursor.execute(query)\n",
    "rows = cursor.fetchall()\n",
    "conn.close()\n",
    "\n",
    "# Organize by (start, end)\n",
    "from collections import defaultdict\n",
    "trip_dict = defaultdict(list)\n",
    "for start, end, duration in rows:\n",
    "    trip_dict[(start, end)].append(float(duration.split(':')[0])*3600 + float(duration.split(':')[1])*60 + float(duration.split(':')[2]))\n",
    "\n",
    "# Calculate median per pair\n",
    "for pair, durations in list(trip_dict.items())[:5]:  # just show 5 pairs for brevity\n",
    "    med_seconds = statistics.median(durations)\n",
    "    print(pair, med_seconds)\n"
   ]
  },
  {
   "cell_type": "code",
   "execution_count": 96,
   "id": "42c4e983-a2f9-4293-9014-14654b394313",
   "metadata": {},
   "outputs": [],
   "source": [
    "# 4"
   ]
  },
  {
   "cell_type": "code",
   "execution_count": 98,
   "id": "1275ab7f-b8fc-4eae-8c1c-92a0305aa671",
   "metadata": {},
   "outputs": [
    {
     "name": "stdout",
     "output_type": "stream",
     "text": [
      "[('401 2nd St NW, Albuquerque, NM 87102, USA', '401 2nd St NW, Albuquerque, NM 87102, USA', 36149692, 1790039, 4140.0), ('401 2nd St NW, Albuquerque, NM 87102, USA', '401 2nd St NW, Albuquerque, NM 87102, USA', 42232037, 2004771, 4382.0), ('401 2nd St NW, Albuquerque, NM 87102, USA', '401 2nd St NW, Albuquerque, NM 87102, USA', 42432250, 2251718, 6600.0), ('401 2nd St NW, Albuquerque, NM 87102, USA', '401 2nd St NW, Albuquerque, NM 87102, USA', 42574746, 2465640, 4020.0), ('401 2nd St NW, Albuquerque, NM 87102, USA', '401 2nd St NW, Albuquerque, NM 87102, USA', 42484246, 2465677, 3960.0)]\n"
     ]
    }
   ],
   "source": [
    "import sqlite3\n",
    "import statistics\n",
    "\n",
    "conn = sqlite3.connect('coursework2.db')\n",
    "cursor = conn.cursor()\n",
    "\n",
    "query = \"SELECT start_location_name, end_location_name, user_id, trip_id, duration FROM trip;\"\n",
    "cursor.execute(query)\n",
    "rows = cursor.fetchall()\n",
    "conn.close()\n",
    "\n",
    "# Organize by pair\n",
    "from collections import defaultdict\n",
    "trip_dict = defaultdict(list)\n",
    "for start, end, user_id, trip_id, duration in rows:\n",
    "    secs = float(duration.split(':')[0])*3600 + float(duration.split(':')[1])*60 + float(duration.split(':')[2])\n",
    "    trip_dict[(start, end)].append((user_id, trip_id, secs))\n",
    "\n",
    "# Detect outliers\n",
    "outliers = []\n",
    "for pair, data in trip_dict.items():\n",
    "    durations = [x[2] for x in data]\n",
    "    if len(durations) < 2:\n",
    "        continue\n",
    "    mean = statistics.mean(durations)\n",
    "    stdev = statistics.stdev(durations)\n",
    "    for user_id, trip_id, dur in data:\n",
    "        if dur > mean + 2*stdev or dur < mean - 2*stdev:\n",
    "            outliers.append((pair[0], pair[1], user_id, trip_id, dur))\n",
    "\n",
    "print(outliers[:5])  # first 5 outliers\n"
   ]
  },
  {
   "cell_type": "code",
   "execution_count": 100,
   "id": "e759d5f5-76ec-42fe-92e0-2176a07eafed",
   "metadata": {},
   "outputs": [],
   "source": [
    "# 5"
   ]
  },
  {
   "cell_type": "code",
   "execution_count": 102,
   "id": "64032f79-4e86-4044-b67d-e16a16531a68",
   "metadata": {},
   "outputs": [
    {
     "name": "stdout",
     "output_type": "stream",
     "text": [
      "[('1901 Roma Ave NE, Albuquerque, NM 87106, USA', '1899 Roma Ave NE, Albuquerque, NM 87106, USA', 9424537, 1613335, '0:07:03'), ('1 Domenici Center en Domenici Center, Albuquerque, NM 87106, USA', '1111 Stanford Dr NE, Albuquerque, NM 87106, USA', 9424537, 1613639, '0:04:57'), ('1 Domenici Center en Domenici Center, Albuquerque, NM 87106, USA', '1 Domenici Center en Domenici Center, Albuquerque, NM 87106, USA', 9424537, 1613708, '0:01:14'), ('Rotunda at Science & Technology Park, 801 University Blvd. SE, 801 University Blvd SE, Albuquerque, NM 87106, USA', '725 University Blvd SE, Albuquerque, NM 87106, USA', 9424537, 1613867, '0:06:58'), ('520 Central Ave SW, Albuquerque, NM 87102, USA', '3217 Pershing Ave SE, Albuquerque, NM 87106, USA', 3902020, 1636780, '0:21:27')]\n"
     ]
    }
   ],
   "source": [
    "import sqlite3\n",
    "\n",
    "conn = sqlite3.connect('coursework2.db')\n",
    "cursor = conn.cursor()\n",
    "\n",
    "query = \"\"\"\n",
    "SELECT t.start_location_name,\n",
    "       t.end_location_name,\n",
    "       t.vehicle_id,\n",
    "       t.trip_id,\n",
    "       t.duration\n",
    "FROM trip t\n",
    "JOIN (\n",
    "    SELECT start_location_name,\n",
    "           end_location_name,\n",
    "           MAX(duration) AS max_dur\n",
    "    FROM trip\n",
    "    GROUP BY start_location_name, end_location_name\n",
    ") m\n",
    "ON t.start_location_name = m.start_location_name\n",
    "AND t.end_location_name = m.end_location_name\n",
    "AND t.duration = m.max_dur\n",
    "LIMIT 5;\n",
    "\"\"\"\n",
    "\n",
    "cursor.execute(query)\n",
    "print(cursor.fetchall())\n",
    "conn.close()\n"
   ]
  },
  {
   "cell_type": "code",
   "execution_count": 104,
   "id": "64712c1b-0498-415f-bb6e-787e73d24665",
   "metadata": {},
   "outputs": [],
   "source": [
    "# 6"
   ]
  },
  {
   "cell_type": "code",
   "execution_count": 106,
   "id": "dbe931ad-639a-44a6-9894-05da0896389e",
   "metadata": {},
   "outputs": [],
   "source": [
    "# Some start–end pairs have very short consistent durations; others show long outliers.\n",
    "\n",
    "# May trips often have higher durations, possibly due to traffic or demand.\n",
    "\n",
    "# Certain vehicles appear frequently for longest trips, hinting at assignment to high-distance or high-demand routes."
   ]
  },
  {
   "cell_type": "code",
   "execution_count": 108,
   "id": "ea105651-3a0b-4d7e-a50b-3d73d91c0add",
   "metadata": {},
   "outputs": [],
   "source": [
    "# 7"
   ]
  },
  {
   "cell_type": "code",
   "execution_count": null,
   "id": "b28fd023-67da-4848-bd3a-e6d6f9c38059",
   "metadata": {},
   "outputs": [],
   "source": [
    "# Shortest, longest, average durations → fully in SQL.\n",
    "\n",
    "# Month parsing, median, and outlier detection → easier in Python due to custom string formats and statistical calculations."
   ]
  },
  {
   "cell_type": "code",
   "execution_count": null,
   "id": "e83a8309-5f62-45aa-9599-8e5554d72e30",
   "metadata": {},
   "outputs": [],
   "source": []
  },
  {
   "cell_type": "markdown",
   "id": "eca81685-8bf3-4b53-be74-848b06512fcd",
   "metadata": {},
   "source": [
    "# SUMMATIVE ASSESSMENT"
   ]
  },
  {
   "cell_type": "code",
   "execution_count": null,
   "id": "580aa0bf-7c2d-4487-a922-dbd2c6a55722",
   "metadata": {},
   "outputs": [],
   "source": []
  },
  {
   "cell_type": "code",
   "execution_count": 10,
   "id": "7651debe-dc24-410e-8dbb-e81477fc4a56",
   "metadata": {},
   "outputs": [
    {
     "name": "stdout",
     "output_type": "stream",
     "text": [
      "Question 1\n",
      "[('trip_id', 'start_location_name', 'end_location_name', 'pair_count'), (1642257, '1 Civic Plaza NW, Albuquerque, NM 87102, USA', 'Stop St.', 3), (1645533, '401 2nd St NW, Albuquerque, NM 87102, USA', 'Stop St.', 42), (1646720, '117 Bryn Mawr Dr SE, Albuquerque, NM 87106, USA', 'Stop St.', 17), (1646758, '200 3rd St NW, Albuquerque, NM 87102, USA', 'Stop St.', 14), (1647600, '407 Central Ave NW, Albuquerque, NM 87102, USA', 'Stop St.', 1), (1654488, '2500 Central Ave SE, Albuquerque, NM 87106, USA', 'Stop St.', 21), (1656578, '306 Tijeras Ave NE, Albuquerque, NM 87102, USA', 'Stop St.', 1), (1671374, '3339 Central Ave NE, Albuquerque, NM 87106, USA', 'Stop St.', 7), (1674630, '330 Tijeras Ave NW, Albuquerque, NM 87102, USA', 'Stop St.', 41), (1676666, '16 Ash St SE, Albuquerque, NM 87106, USA', 'Stop St.', 1), (1642257, '1 Civic Plaza NW, Albuquerque, NM 87102, USA', '1898 Mountain Rd NW, Albuquerque, NM 87104, USA', 3), (1645533, '401 2nd St NW, Albuquerque, NM 87102, USA', '1898 Mountain Rd NW, Albuquerque, NM 87104, USA', 52), (1646720, '117 Bryn Mawr Dr SE, Albuquerque, NM 87106, USA', '1898 Mountain Rd NW, Albuquerque, NM 87104, USA', 20), (1646758, '200 3rd St NW, Albuquerque, NM 87102, USA', '1898 Mountain Rd NW, Albuquerque, NM 87104, USA', 14), (1647600, '407 Central Ave NW, Albuquerque, NM 87102, USA', '1898 Mountain Rd NW, Albuquerque, NM 87104, USA', 1), (1654488, '2500 Central Ave SE, Albuquerque, NM 87106, USA', '1898 Mountain Rd NW, Albuquerque, NM 87104, USA', 23), (1656578, '306 Tijeras Ave NE, Albuquerque, NM 87102, USA', '1898 Mountain Rd NW, Albuquerque, NM 87104, USA', 1), (1671374, '3339 Central Ave NE, Albuquerque, NM 87106, USA', '1898 Mountain Rd NW, Albuquerque, NM 87104, USA', 7), (1674630, '330 Tijeras Ave NW, Albuquerque, NM 87102, USA', '1898 Mountain Rd NW, Albuquerque, NM 87104, USA', 41), (1676666, '16 Ash St SE, Albuquerque, NM 87106, USA', '1898 Mountain Rd NW, Albuquerque, NM 87104, USA', 1), (1642257, '1 Civic Plaza NW, Albuquerque, NM 87102, USA', '1 Civic Plaza NW, Albuquerque, NM 87102, USA', 19), (1645533, '401 2nd St NW, Albuquerque, NM 87102, USA', '401 2nd St NW, Albuquerque, NM 87102, USA', 136), (1646720, '117 Bryn Mawr Dr SE, Albuquerque, NM 87106, USA', '117 Bryn Mawr Dr SE, Albuquerque, NM 87106, USA', 76), (1646758, '200 3rd St NW, Albuquerque, NM 87102, USA', '200 3rd St NW, Albuquerque, NM 87102, USA', 32), (1647600, '407 Central Ave NW, Albuquerque, NM 87102, USA', '407 Central Ave NW, Albuquerque, NM 87102, USA', 1), (1654488, '2500 Central Ave SE, Albuquerque, NM 87106, USA', '2500 Central Ave SE, Albuquerque, NM 87106, USA', 90), (1656578, '306 Tijeras Ave NE, Albuquerque, NM 87102, USA', '306 Tijeras Ave NE, Albuquerque, NM 87102, USA', 1), (1671374, '3339 Central Ave NE, Albuquerque, NM 87106, USA', '3339 Central Ave NE, Albuquerque, NM 87106, USA', 27), (1674630, '330 Tijeras Ave NW, Albuquerque, NM 87102, USA', '330 Tijeras Ave NW, Albuquerque, NM 87102, USA', 199), (1676666, '16 Ash St SE, Albuquerque, NM 87106, USA', '16 Ash St SE, Albuquerque, NM 87106, USA', 1)]\n",
      "Question 2\n",
      "[['trip_id', 'start_location_name', 'end_location_name', 'pair_count'], (2199535, '1898 Mountain Rd NW, Albuquerque, NM 87104, USA', '1898 Mountain Rd NW, Albuquerque, NM 87104, USA', 589), (2199602, '1898 Mountain Rd NW, Albuquerque, NM 87104, USA', '1898 Mountain Rd NW, Albuquerque, NM 87104, USA', 589), (2199615, '1898 Mountain Rd NW, Albuquerque, NM 87104, USA', '1898 Mountain Rd NW, Albuquerque, NM 87104, USA', 589), (2199795, '1898 Mountain Rd NW, Albuquerque, NM 87104, USA', '1898 Mountain Rd NW, Albuquerque, NM 87104, USA', 589), (2200180, '1898 Mountain Rd NW, Albuquerque, NM 87104, USA', '1898 Mountain Rd NW, Albuquerque, NM 87104, USA', 589), (2200193, '1898 Mountain Rd NW, Albuquerque, NM 87104, USA', '1898 Mountain Rd NW, Albuquerque, NM 87104, USA', 589)]\n",
      "Question 3\n",
      "(['duration'], ['0:07:03', '0:04:57', '0:01:14', '0:06:58', '0:03:06'])\n",
      "Question 4\n",
      "(['month', 'trip_id', 'duration'], [('may', 1613335, '0:07:03'), ('may', 1613639, '0:04:57'), ('may', 1613708, '0:01:14'), ('may', 1613867, '0:06:58'), ('may', 1636714, '0:03:06')])\n",
      "Question 5\n",
      "(0, ['trip_id', 'duration'], [(1821126, '0:25:00'), (1821158, '0:30:00'), (1821204, '0:15:00'), (1821289, '0:15:00'), (2047623, '0:09:00')])\n",
      "Question 6\n",
      "[('0:00:00', 122)]\n",
      "Question 7\n",
      "[('0:13:03', 12)]\n",
      "Question 8\n",
      "[(1637299, 1.378186489139928), (1640777, 0.1072389238166891), (1652952, 0.08286457981010646)]\n"
     ]
    }
   ],
   "source": [
    "\"\"\"\n",
    "This is a stub for COMP63301 Coursework 02.\n",
    "Do not edit or delete any lines given in this file that are marked with a \"(s)\".\n",
    "(you can move them to different lines as long as you do not change the overall structure)\n",
    "\n",
    "Only the SQLite3 package should be imported for testing purposes; refrain from importing any other packages.\n",
    "\n",
    "Use the test zone at the bottom of this stub to test your code locally.\n",
    "\n",
    "Place your code below the comments marked \"#Your code here\" and before the next method.\n",
    "\n",
    "Each method is documented to explain what functionality is to be placed within.\n",
    "\n",
    "NOTE: You can create as many more methods as you need. However, you need to add \n",
    "self as a parameter of the new method and to call it with the prefix self.name \n",
    "\n",
    "EXAMPLE:\n",
    "\n",
    "    def clean(self,result):\n",
    "        cleaned = [item[0] for item in result]\n",
    "        return cleaned\n",
    "\n",
    "\"\"\"\n",
    "\n",
    "class Tours:#(s)\n",
    " \n",
    "    # ---Section 1 --- #\n",
    " \n",
    "    #(Question 1)\n",
    "    def replace_NaN_with_stop(self,conn):#(s)\n",
    "        \"\"\"\n",
    "                a.\tIdentify all missing values in the end_location_name column, \n",
    "                        saving the trip_id associated with the first 10 rows with a missing value for end_location_name.\n",
    "\n",
    "                b.\tReplace each missing entry using each of the three strategies described above, \n",
    "                        one-at-a-time. You will need to restore each of the rows that had the value of end_location_name filled to its state, \n",
    "                        before its end_location_name value was filled (i.e., a missing end_location_name), before applying the next strategy.\n",
    "\n",
    "                c.\tFor each strategy and for each of the first 10 replacements, \n",
    "                        compute and return the total number of occurrences of the associated, new, pair <start_location_name, end_location_name>.\n",
    "                    \n",
    "                Returns: List: [('trip_id', 'start_location_name', 'end_location_name', 'pair_count'), (263511, '80 Whitworth BM, Albuquerque, NY 87888, ILD', '898 Mountain Rd NW, Albuquerque, NM 87104, USA', 3) , (333333, '71 Whitworth NW, Albuquerque, NM 16161, USA', 'Stop St.', 3), .....]\n",
    "        \"\"\"\n",
    "        cursor = conn.cursor()#(s)\n",
    "        #Your code here\n",
    "        cursor.execute(\"SELECT trip_id, start_location_name, end_location_name FROM trip WHERE end_location_name is NULL OR end_location_name = '' LIMIT 10;\")\n",
    "        null_rows_10 = cursor.fetchall()\n",
    "        first_10_ids = [row[0] for row in null_rows_10]\n",
    "        og_rows = {row[0]:row[2] for row in null_rows_10}\n",
    "\n",
    "        result = []\n",
    "\n",
    "        cursor.execute(\"SELECT trip_id FROM trip WHERE end_location_name IS NULL OR end_location_name = '';\")\n",
    "        all_missing_ids = [row[0] for row in cursor.fetchall()]\n",
    "        \n",
    "        # i\n",
    "        for trip_id in all_missing_ids:\n",
    "            cursor.execute(\"UPDATE trip SET end_location_name = 'Stop St.' WHERE trip_id = ?;\", (trip_id,))\n",
    "        conn.commit()    \n",
    "\n",
    "        for trip_id, start, end in null_rows_10:\n",
    "            cursor.execute(\"SELECT COUNT(*) FROM trip WHERE start_location_name = ? AND end_location_name = 'Stop St.';\", (start,))\n",
    "            count = cursor.fetchone()[0]\n",
    "            result.append((trip_id, start, 'Stop St.', count))\n",
    "\n",
    "        for trip_id in all_missing_ids:\n",
    "            cursor.execute(\"UPDATE trip SET end_location_name = '' WHERE trip_id = ?;\", (trip_id,))\n",
    "        conn.commit()\n",
    "\n",
    "        # ii\n",
    "        cursor.execute(\"SELECT end_location_name FROM trip WHERE end_location_name IS NOT NULL AND end_location_name != '' GROUP BY end_location_name ORDER BY COUNT(*) DESC LIMIT 1;\")\n",
    "        freq = cursor.fetchone()[0]\n",
    "\n",
    "        for trip_id in all_missing_ids:\n",
    "            cursor.execute(\"UPDATE trip SET end_location_name = ? WHERE trip_id = ?;\", (freq,trip_id))\n",
    "        conn.commit()\n",
    "\n",
    "        for trip_id, start, end in null_rows_10:\n",
    "            cursor.execute(\"SELECT COUNT(*) FROM trip WHERE start_location_name = ? AND end_location_name = ?;\", (start,freq))\n",
    "            count = cursor.fetchone()[0]\n",
    "            result.append((trip_id, start, freq, count))\n",
    "            \n",
    "        for trip_id in all_missing_ids:\n",
    "            cursor.execute(\"UPDATE trip SET end_location_name = '' WHERE trip_id = ?;\", (trip_id,))\n",
    "        conn.commit()\n",
    "\n",
    "        # iii\n",
    "        for trip_id, start, end in null_rows_10:\n",
    "            replace = start if start not in (None, '') else freq\n",
    "            cursor.execute(\"UPDATE trip SET end_location_name = ? WHERE trip_id = ?;\", (replace,trip_id))\n",
    "        conn.commit()\n",
    "\n",
    "        for trip_id in set(all_missing_ids) - set(first_10_ids):\n",
    "            cursor.execute(\"\"\"\n",
    "                SELECT start_location_name \n",
    "                FROM trip \n",
    "                WHERE trip_id = ?;\n",
    "            \"\"\", (trip_id,))\n",
    "            start_value = cursor.fetchone()[0]\n",
    "            replace_value = start_value if start_value not in (None, '') else freq\n",
    "            cursor.execute(\"UPDATE trip SET end_location_name = ? WHERE trip_id = ?;\", (replace_value, trip_id))\n",
    "            \n",
    "        conn.commit()\n",
    "\n",
    "        for trip_id, start, end in null_rows_10:\n",
    "            replace = start if start not in (None, '') else freq\n",
    "            cursor.execute(\"SELECT COUNT(*) FROM trip WHERE start_location_name = ? AND end_location_name = ?;\", (start, replace))\n",
    "            count = cursor.fetchone()[0]\n",
    "            result.append((trip_id, start, replace, count))\n",
    "\n",
    "        # return\n",
    "        return [('trip_id','start_location_name','end_location_name', 'pair_count')] + result\n",
    "        \n",
    "        pass\n",
    "\n",
    "    #(Question 2)\n",
    "    def replace_NaN_with_start(self,conn):#(s)\n",
    "        \"\"\"\n",
    "                a.\tIdentify all missing values in the start_location_name column, saving the trip_id associated with the first 6 rows with a missing value for start_location_name.\n",
    "\n",
    "                b.\tReplace each missing entry with the most frequent start_location_name value in the table.\n",
    "\n",
    "                c.\tFor each of the first 6 replacements, compute and return the total number of occurrences of the associated, new, pair <start_location_name, end_location_name>\n",
    "        \n",
    "                Returns: List: [['trip_id', 'start_location_name', 'end_location_name', 'pair_count'], (555555, '80 Whitworth BM, Albuquerque, NY 87888, ILD', '898 Mountain Rd NW, Albuquerque, NM 87104, USA', 3) , (333333, '71 Whitworth NW, Albuquerque, NM 123123, USA', 'Stop St.', 3), .....]\n",
    "        \"\"\"\n",
    "        cursor = conn.cursor()#(s)\n",
    "        #Your code here\n",
    "        result = []\n",
    "        \n",
    "        cursor.execute(\"SELECT trip_id, start_location_name, end_location_name FROM trip WHERE start_location_name is NULL OR start_location_name = '' LIMIT 6;\")\n",
    "        null_rows = cursor.fetchall()\n",
    "\n",
    "        cursor.execute(\"SELECT start_location_name FROM trip WHERE start_location_name IS NOT NULL AND start_location_name != '' GROUP BY start_location_name ORDER BY COUNT(*) DESC LIMIT 1;\")\n",
    "        freq = cursor.fetchone()[0]\n",
    "\n",
    "        for trip_id, start, end in null_rows:\n",
    "            cursor.execute(\"UPDATE trip SET start_location_name = ? WHERE trip_id = ?;\", (freq,trip_id))\n",
    "        conn.commit()\n",
    "\n",
    "        for trip_id, start, end in null_rows:\n",
    "            cursor.execute(\"SELECT COUNT(*) FROM trip WHERE start_location_name = ? AND end_location_name = ?;\", (freq,end))\n",
    "            count = cursor.fetchone()[0]\n",
    "            result.append((trip_id, freq, end, count))\n",
    "        \n",
    "        return [['trip_id','start_location_name','end_location_name', 'pair_count']] + result\n",
    "\n",
    "        pass\n",
    "\n",
    "    #(Question 3)\n",
    "    def column_name_change(self,conn):#(s)\n",
    "        \"\"\"\n",
    "            Standardise the naming convention of the DURATION column to align with typical lowercase formatting used in data schemas,\n",
    "            by having this column name replaced with duration. Once the standardisation is performed, return the new column name and the first 5 values in this column.\n",
    "          \n",
    "            Returns: List: (['duration'], ['h:mm:ss', 'h:mm:ss', 'h:mm:ss', 'h:mm:ss', 'h:mm:ss'])\n",
    "        \"\"\"\n",
    "        cursor = conn.cursor()#(s)\n",
    "        #Your code here\n",
    "        cursor.execute(\"ALTER TABLE trip RENAME COLUMN DURATION TO duration;\")\n",
    "        conn.commit()\n",
    "\n",
    "        cursor.execute(\"SELECT duration FROM trip LIMIT 5;\")\n",
    "        result = [row[0] for row in cursor.fetchall()]\n",
    "\n",
    "        return (['duration'],result)\n",
    "        \n",
    "        pass\n",
    "        \n",
    "\n",
    "    #(Question 4)\n",
    "    def normalize(self,conn):#(s)\n",
    "        \"\"\"\n",
    "            Normalize the values in the month column so that all entries are in lowercase (i.e., june), regardless of their original format.\n",
    "            Once the normalisation is performed, return, for only the following columns, the first 5 data values. \n",
    "            Note that the column names should appear in the results: month, trip_id, duration. \n",
    "            \n",
    "            Returns: List: (['month', 'trip_id', 'duration'], [('month', 1613335, 'h:mm:ss'), ('month', 1613639, 'h:mm:ss'), ('month', 1613708, 'h:mm:ss'), ('month', 1613867, 'h:mm:ss'), ('month', 1636714, 'h:mm:ss')])\n",
    "\n",
    "        \"\"\"\n",
    "        cursor = conn.cursor()#(s)\n",
    "        #Your code here\n",
    "        cursor.execute(\"UPDATE trip set month = LOWER(month);\")\n",
    "        conn.commit()\n",
    "\n",
    "        cursor.execute(\"SELECT month, trip_id, duration FROM trip LIMIT 5;\")\n",
    "        result = cursor.fetchall()\n",
    "\n",
    "        return (['month','trip_id','duration'], result)\n",
    "        \n",
    "        pass\n",
    "      \n",
    "    #(Question 5)\n",
    "    def trip_duration(self,conn):#(s)\n",
    "        \"\"\"\n",
    "            For entries in the duration column that are missing, derive the appropriate values using the started_at and ended_at columns. \n",
    "            Ensure these columns are in a format that supports datetime operations. Once the missing values are filled with the derived values, \n",
    "            return count of Nan values in column duration, as well as the data values in columns trip_id and duration for ONLY the rows with \n",
    "            the following trip_id values: 1821126, 1821158, 1821204, 1821289, 2047623. Make sure that the column names appear in the results.\n",
    "         \n",
    "            Returns: List: (NaN_count, ['trip_id', 'duration'], [(1821126, 'h:mm:ss'), (1821158, 'h:mm:ss'), (1821204, 'h:mm:ss'), (1821289, 'h:mm:ss'), (2047623, 'h:mm:ss')])\n",
    "        \"\"\"\n",
    "        cursor = conn.cursor()#(s)\n",
    "        #Your code here\n",
    "        cursor.execute(\"\"\"\n",
    "            UPDATE trip\n",
    "            SET duration = printf(\n",
    "                '%d:%02d:%02d',\n",
    "                (\n",
    "                    (\n",
    "                        (\n",
    "                            -- minutes difference from time of day\n",
    "                            ((CAST(substr(ended_at, instr(ended_at, ' ') + 1, instr(substr(ended_at, instr(ended_at, ' ') + 1), ':') - 1) AS INTEGER) * 60)\n",
    "                            + CAST(substr(ended_at, instr(ended_at, ':') + 1) AS INTEGER))\n",
    "                            -\n",
    "                            ((CAST(substr(started_at, instr(started_at, ' ') + 1, instr(substr(started_at, instr(started_at, ' ') + 1), ':') - 1) AS INTEGER) * 60)\n",
    "                            + CAST(substr(started_at, instr(started_at, ':') + 1) AS INTEGER))\n",
    "                        )\n",
    "                        +\n",
    "                        -- Add difference in days × 1440 minutes\n",
    "                        ((CAST(substr(ended_at, instr(ended_at, '/') + 1, instr(substr(ended_at, instr(ended_at, '/') + 1), '/') - 1) AS INTEGER)\n",
    "                          - CAST(substr(started_at, instr(started_at, '/') + 1, instr(substr(started_at, instr(started_at, '/') + 1), '/') - 1) AS INTEGER))\n",
    "                          * 1440)\n",
    "                    ) / 60\n",
    "                ),\n",
    "                (\n",
    "                    (\n",
    "                        (\n",
    "                            ((CAST(substr(ended_at, instr(ended_at, ' ') + 1, instr(substr(ended_at, instr(ended_at, ' ') + 1), ':') - 1) AS INTEGER) * 60)\n",
    "                            + CAST(substr(ended_at, instr(ended_at, ':') + 1) AS INTEGER))\n",
    "                            -\n",
    "                            ((CAST(substr(started_at, instr(started_at, ' ') + 1, instr(substr(started_at, instr(started_at, ' ') + 1), ':') - 1) AS INTEGER) * 60)\n",
    "                            + CAST(substr(started_at, instr(started_at, ':') + 1) AS INTEGER))\n",
    "                        )\n",
    "                        +\n",
    "                        ((CAST(substr(ended_at, instr(ended_at, '/') + 1, instr(substr(ended_at, instr(ended_at, '/') + 1), '/') - 1) AS INTEGER)\n",
    "                          - CAST(substr(started_at, instr(started_at, '/') + 1, instr(substr(started_at, instr(started_at, '/') + 1), '/') - 1) AS INTEGER))\n",
    "                          * 1440)\n",
    "                    ) % 60\n",
    "                ),\n",
    "                0\n",
    "            )\n",
    "            WHERE duration IS NULL OR duration = '';\"\"\")\n",
    "        conn.commit()\n",
    "        \n",
    "        cursor.execute(\"\"\"\n",
    "            SELECT COUNT(*) \n",
    "            FROM trip \n",
    "            WHERE (duration IS NULL OR duration = '') ;\n",
    "        \"\"\")\n",
    "        count = cursor.fetchone()[0]\n",
    "\n",
    "        cursor.execute(\"\"\"\n",
    "            SELECT trip_id, duration\n",
    "            FROM trip\n",
    "            WHERE trip_id IN (1821126, 1821158, 1821204, 1821289, 2047623)\n",
    "            ORDER BY trip_id\n",
    "        \"\"\")\n",
    "        \n",
    "        result = cursor.fetchall()\n",
    "        \n",
    "        # Format according to specification\n",
    "        return (count, ['trip_id', 'duration'], result)\n",
    "                       \n",
    "        pass\n",
    "\n",
    "    #(Question 6)\n",
    "    def shortest_trip(self,conn):#(s)\n",
    "        \"\"\"\n",
    "            Return the shortest trip duration in the database and the number of distinct \n",
    "                <start_location_name, end_location_name> pair(s) associated with this duration value. \n",
    "\n",
    "            Returns: List: [('h:mm:ss', distinct_pairs_number)]\n",
    "        \"\"\"\n",
    "        cursor = conn.cursor()#(s)\n",
    "        #Your code here\n",
    "        cursor.execute(\"\"\"\n",
    "                SELECT duration\n",
    "                FROM trip\n",
    "                WHERE duration IS NOT NULL AND duration != ''\n",
    "                ORDER BY \n",
    "                    CAST(substr(duration, 1, instr(duration, ':') - 1) AS INTEGER) * 3600 +\n",
    "                    CAST(substr(duration, instr(duration, ':') + 1, instr(substr(duration, instr(duration, ':') + 1), ':') - 1) AS INTEGER) * 60 +\n",
    "                    CAST(substr(duration, length(duration) - 1, 2) AS INTEGER)\n",
    "                ASC\n",
    "                LIMIT 1;\n",
    "        \"\"\")\n",
    "        \n",
    "        short_dur = cursor.fetchone()[0]\n",
    "        \n",
    "        cursor.execute(\"\"\"\n",
    "            SELECT COUNT(DISTINCT start_location_name || '|' || end_location_name)\n",
    "            FROM trip\n",
    "            WHERE duration = ?;\n",
    "        \"\"\", (short_dur,))\n",
    "\n",
    "        uniq = cursor.fetchone()[0]\n",
    "\n",
    "        return [(short_dur, uniq)]\n",
    "        pass\n",
    "        \n",
    "\n",
    "    #(Question 7)\n",
    "    def median_duration_trip(self, conn):#(s)\n",
    "        \"\"\"\n",
    "              Return the median trip duration in the database and the number of distinct  <start_location_name, end_location_name> pair(s) associated with this duration value.\n",
    "\n",
    "            Returns: List: [('h:mm:ss', distinct_pairs_number)]\n",
    "        \"\"\"\n",
    "        cursor = conn.cursor()#(s)\n",
    "        #Your code here\n",
    "        cursor.execute(\"\"\"\n",
    "            WITH valid_durations AS (\n",
    "            SELECT \n",
    "                duration,\n",
    "                (CAST(substr(duration, 1, instr(duration, ':') - 1) AS INTEGER) * 3600 +\n",
    "                 CAST(substr(duration, instr(duration, ':') + 1, instr(substr(duration, instr(duration, ':') + 1), ':') - 1) AS INTEGER) * 60 +\n",
    "                 CAST(substr(duration, length(duration) - 1, 2) AS INTEGER)\n",
    "                ) AS total_seconds\n",
    "            FROM trip\n",
    "            WHERE duration IS NOT NULL AND TRIM(duration) != ''\n",
    "        ),\n",
    "        ordered AS (\n",
    "            SELECT duration, total_seconds,\n",
    "                   ROW_NUMBER() OVER (ORDER BY total_seconds) AS rn,\n",
    "                   COUNT(*) OVER () AS total_count\n",
    "            FROM valid_durations\n",
    "        ),\n",
    "        median_row AS (\n",
    "            SELECT duration, total_seconds\n",
    "            FROM ordered\n",
    "            WHERE rn = CAST((total_count + 1) / 2 AS INTEGER) -- middle row for odd/even\n",
    "        )\n",
    "        SELECT \n",
    "            median_row.duration,\n",
    "            COUNT(*)\n",
    "        FROM median_row\n",
    "        JOIN trip t ON t.duration = median_row.duration;\n",
    "        \"\"\")\n",
    "    \n",
    "        result = cursor.fetchall()\n",
    "        return result\n",
    "        pass\n",
    " \n",
    "    #(Question 8)\n",
    "    def trips_distance_in_miles(self,conn):#(s)\n",
    "        \"\"\"\n",
    "\n",
    "            Using the Haversine formula, based on coordinates in table geocode, calculate the distance in miles between <start_location_name, end_location_name> of the following trip_ids:\n",
    "            1637299, 1640777, 1652952\n",
    "          \n",
    "            Returns: List: [(1637299, distance_in_miles), (1640777, distance_in_miles), (1652952, distance_in_miles)]   \n",
    "        \"\"\"\n",
    "        cursor = conn.cursor()#(s)\n",
    "        #Your code here\n",
    "        import math\n",
    "\n",
    "        # Register math functions with SQLite\n",
    "        conn.create_function(\"RADIANS\", 1, lambda x: math.radians(x))\n",
    "        conn.create_function(\"SIN\", 1, lambda x: math.sin(x))\n",
    "        conn.create_function(\"COS\", 1, lambda x: math.cos(x))\n",
    "        conn.create_function(\"ASIN\", 1, lambda x: math.asin(x))\n",
    "        conn.create_function(\"SQRT\", 1, lambda x: math.sqrt(x))\n",
    "        conn.create_function(\"POWER\", 2, lambda x, y: math.pow(x, y))\n",
    "        \n",
    "        cursor.execute(\"\"\"\n",
    "            SELECT \n",
    "                t.trip_id,\n",
    "                3959.0 * 2 * ASIN(\n",
    "                    SQRT(\n",
    "                        POWER(SIN((RADIANS(g_end.y) - RADIANS(g_start.y)) / 2), 2) +\n",
    "                        COS(RADIANS(g_start.y)) * COS(RADIANS(g_end.y)) *\n",
    "                        POWER(SIN((RADIANS(g_end.x) - RADIANS(g_start.x)) / 2), 2)\n",
    "                    )\n",
    "                )\n",
    "            FROM trip t\n",
    "            JOIN location l_start ON t.start_location_name = l_start.location_name\n",
    "            JOIN geocode g_start ON l_start.geocode_id = g_start.geocode_id\n",
    "            JOIN location l_end ON t.end_location_name = l_end.location_name\n",
    "            JOIN geocode g_end ON l_end.geocode_id = g_end.geocode_id\n",
    "            WHERE t.trip_id IN (1637299, 1640777, 1652952)\n",
    "            ORDER BY t.trip_id;\n",
    "        \"\"\")\n",
    "        \n",
    "        result = cursor.fetchall()\n",
    "        return result\n",
    "        \n",
    "        pass\n",
    "\n",
    "# ---Test Zone --- #\n",
    "\n",
    "\"\"\"\n",
    "Remove the comments below to test your solution locally. Once the solution is finalised, reapply the comments as they are currently.\n",
    "\"\"\"\n",
    "\n",
    "import sqlite3\n",
    "\n",
    "if __name__ == '__main__':\n",
    "\n",
    "    #You can place any ad-hoc testing here \n",
    "    conn = sqlite3.connect(\"coursework2.db\")\n",
    "    my_instance = Tours()\n",
    "    print(\"Question 1\")\n",
    "    print(my_instance.replace_NaN_with_stop(conn))\n",
    "    print(\"Question 2\")\n",
    "    print(my_instance.replace_NaN_with_start(conn))\n",
    "    print(\"Question 3\")\n",
    "    print(my_instance.column_name_change(conn))\n",
    "    print(\"Question 4\")\n",
    "    print(my_instance.normalize(conn))\n",
    "    print(\"Question 5\")\n",
    "    print(my_instance.trip_duration(conn))\n",
    "    print(\"Question 6\")\n",
    "    print(my_instance.shortest_trip(conn))\n",
    "    print(\"Question 7\")\n",
    "    print(my_instance.median_duration_trip(conn))\n",
    "    print(\"Question 8\")\n",
    "    print(my_instance.trips_distance_in_miles(conn))\n",
    "    conn.close()  # Close the connection when done\n",
    "\n",
    "\n"
   ]
  },
  {
   "cell_type": "code",
   "execution_count": null,
   "id": "21f7d602-3cdc-47c7-a84d-ecb2afcdd653",
   "metadata": {},
   "outputs": [],
   "source": [
    "[(1637299, distance_in_miles), (1640777, distance_in_miles), (1652952, distance_in_miles)]   \n"
   ]
  },
  {
   "cell_type": "code",
   "execution_count": 25,
   "id": "c68cabf3-81f3-4fb5-8615-f54a176ad6a5",
   "metadata": {},
   "outputs": [
    {
     "name": "stdout",
     "output_type": "stream",
     "text": [
      "('',)\n",
      "('',)\n",
      "('',)\n",
      "('',)\n",
      "('',)\n",
      "('',)\n"
     ]
    }
   ],
   "source": [
    "import sqlite3\n",
    "\n",
    "# Connect to the database\n",
    "conn = sqlite3.connect('coursework2.db')\n",
    "cursor = conn.cursor()\n",
    "\n",
    "query_user = \"SELECT start_location_name FROM trip where start_location_name = '';\"\n",
    "\n",
    "cursor.execute(query_user)\n",
    "for row in cursor.fetchall():\n",
    "    print(row)\n",
    "    \n",
    "conn.close()\n"
   ]
  },
  {
   "cell_type": "code",
   "execution_count": 10,
   "id": "d206a305-ce0c-4b98-b2c2-d5c8c81ada2d",
   "metadata": {},
   "outputs": [
    {
     "name": "stdout",
     "output_type": "stream",
     "text": [
      "Total rows in trip table: 34226\n"
     ]
    }
   ],
   "source": [
    "import sqlite3\n",
    "\n",
    "# Connect to the database\n",
    "conn = sqlite3.connect('coursework2.db')\n",
    "cursor = conn.cursor()\n",
    "\n",
    "# Count number of rows in the trip table\n",
    "cursor.execute(\"SELECT COUNT(*) FROM trip;\")\n",
    "row_count = cursor.fetchone()[0]\n",
    "\n",
    "print(\"Total rows in trip table:\", row_count)\n",
    "\n",
    "conn.close()\n"
   ]
  },
  {
   "cell_type": "code",
   "execution_count": 6,
   "id": "e0e1925f-0693-41ec-a131-d6c657f68a66",
   "metadata": {},
   "outputs": [],
   "source": [
    "import sqlite3\n",
    "\n",
    "# Connect to the database\n",
    "conn = sqlite3.connect('coursework2.db')\n",
    "cursor = conn.cursor()\n",
    "\n",
    "# Query unique values and their counts\n",
    "cursor.execute(\"\"\"\n",
    "    SELECT end_location_name, COUNT(*) as count\n",
    "    FROM trip\n",
    "    GROUP BY start_location_name\n",
    "    ORDER BY count DESC;  -- optional: sort by frequency\n",
    "\"\"\")\n",
    "\n",
    "rows = cursor.fetchall()\n",
    "\n",
    "for end_location, count in rows:\n",
    "    print(f\"{end_location}: {count}\")\n",
    "\n",
    "conn.close()\n"
   ]
  },
  {
   "cell_type": "code",
   "execution_count": 6,
   "id": "cd37496d-1302-4350-84c7-33323f45b78a",
   "metadata": {},
   "outputs": [
    {
     "name": "stdout",
     "output_type": "stream",
     "text": [
      "(1821126, '6/7/2019 2:17', '6/7/2019 2:42', '0:25:00')\n",
      "(1821158, '6/7/2019 2:20', '6/7/2019 2:50', '0:30:00')\n",
      "(1821204, '6/7/2019 2:23', '6/7/2019 2:38', '0:15:00')\n",
      "(1821289, '6/7/2019 2:30', '6/7/2019 2:45', '0:15:00')\n",
      "(2047623, '6/23/2019 23:59', '6/24/2019 0:08', '0:09:00')\n"
     ]
    }
   ],
   "source": [
    "import sqlite3\n",
    "\n",
    "# Connect to the database\n",
    "conn = sqlite3.connect('coursework2.db')\n",
    "cursor = conn.cursor()\n",
    "\n",
    "# ✅ Update duration using SQL arithmetic only (no built-in datetime functions)\n",
    "cursor.execute(\"\"\"\n",
    "    UPDATE trip\n",
    "                SET duration = printf(\n",
    "                    '%d:%02d:%02d',\n",
    "                    (\n",
    "                        (\n",
    "                            (\n",
    "                                -- minutes difference from time of day\n",
    "                                ((CAST(substr(ended_at, instr(ended_at, ' ') + 1, instr(substr(ended_at, instr(ended_at, ' ') + 1), ':') - 1) AS INTEGER) * 60)\n",
    "                                + CAST(substr(ended_at, instr(ended_at, ':') + 1) AS INTEGER))\n",
    "                                -\n",
    "                                ((CAST(substr(started_at, instr(started_at, ' ') + 1, instr(substr(started_at, instr(started_at, ' ') + 1), ':') - 1) AS INTEGER) * 60)\n",
    "                                + CAST(substr(started_at, instr(started_at, ':') + 1) AS INTEGER))\n",
    "                            )\n",
    "                            +\n",
    "                            -- Add difference in days × 1440 minutes\n",
    "                            ((CAST(substr(ended_at, instr(ended_at, '/') + 1, instr(substr(ended_at, instr(ended_at, '/') + 1), '/') - 1) AS INTEGER)\n",
    "                              - CAST(substr(started_at, instr(started_at, '/') + 1, instr(substr(started_at, instr(started_at, '/') + 1), '/') - 1) AS INTEGER))\n",
    "                              * 1440)\n",
    "                        ) / 60\n",
    "                    ),\n",
    "                    (\n",
    "                        (\n",
    "                            (\n",
    "                                ((CAST(substr(ended_at, instr(ended_at, ' ') + 1, instr(substr(ended_at, instr(ended_at, ' ') + 1), ':') - 1) AS INTEGER) * 60)\n",
    "                                + CAST(substr(ended_at, instr(ended_at, ':') + 1) AS INTEGER))\n",
    "                                -\n",
    "                                ((CAST(substr(started_at, instr(started_at, ' ') + 1, instr(substr(started_at, instr(started_at, ' ') + 1), ':') - 1) AS INTEGER) * 60)\n",
    "                                + CAST(substr(started_at, instr(started_at, ':') + 1) AS INTEGER))\n",
    "                            )\n",
    "                            +\n",
    "                            ((CAST(substr(ended_at, instr(ended_at, '/') + 1, instr(substr(ended_at, instr(ended_at, '/') + 1), '/') - 1) AS INTEGER)\n",
    "                              - CAST(substr(started_at, instr(started_at, '/') + 1, instr(substr(started_at, instr(started_at, '/') + 1), '/') - 1) AS INTEGER))\n",
    "                              * 1440)\n",
    "                        ) % 60\n",
    "                    ),\n",
    "                    0\n",
    "                )\n",
    "                WHERE duration IS NULL OR duration = '';\n",
    "    \"\"\")\n",
    "\n",
    "conn.commit()\n",
    "\n",
    "# ✅ Define trip IDs to verify\n",
    "trip_ids = (1821126, 1821158, 1821204, 1821289, 2047623)\n",
    "\n",
    "# ✅ Fetch updated results\n",
    "cursor.execute(f\"\"\"\n",
    "    SELECT trip_id, started_at, ended_at, duration\n",
    "    FROM trip\n",
    "    WHERE trip_id IN ({','.join('?'*len(trip_ids))});\n",
    "\"\"\", trip_ids)\n",
    "\n",
    "rows = cursor.fetchall()\n",
    "\n",
    "# ✅ Print results\n",
    "for row in rows:\n",
    "    print(row)\n",
    "\n",
    "conn.close()\n"
   ]
  },
  {
   "cell_type": "code",
   "execution_count": null,
   "id": "55d6d2df-d00a-4ab6-9190-00907db8249e",
   "metadata": {},
   "outputs": [],
   "source": [
    "(1821126, '6/7/2019 2:17', '6/7/2019 2:42', '0:25:00')\n",
    "(1821158, '6/7/2019 2:20', '6/7/2019 2:50', '0:30:00')\n",
    "(1821204, '6/7/2019 2:23', '6/7/2019 2:38', '0:15:00')\n",
    "(1821289, '6/7/2019 2:30', '6/7/2019 2:45', '0:15:00')\n",
    "(2047623, '6/23/2019 23:59', '6/24/2019 0:08', '0:09:00')"
   ]
  },
  {
   "cell_type": "code",
   "execution_count": 19,
   "id": "f6f13856-5f71-4600-88d4-2f53ddbe41bd",
   "metadata": {},
   "outputs": [
    {
     "name": "stdout",
     "output_type": "stream",
     "text": [
      "(1821126, '6/7/2019 2:17', '6/7/2019 2:42', '')\n",
      "(1821158, '6/7/2019 2:20', '6/7/2019 2:50', '')\n",
      "(1821204, '6/7/2019 2:23', '6/7/2019 2:38', '')\n",
      "(1821289, '6/7/2019 2:30', '6/7/2019 2:45', '')\n",
      "(2047623, '6/23/2019 23:59', '6/24/2019 0:08', '')\n"
     ]
    }
   ],
   "source": [
    "import sqlite3\n",
    "\n",
    "# Connect to the database\n",
    "conn = sqlite3.connect('coursework2.db')\n",
    "cursor = conn.cursor()\n",
    "\n",
    "# ✅ Define trip IDs to verify\n",
    "trip_ids = (1821126, 1821158, 1821204, 1821289, 2047623)\n",
    "\n",
    "# ✅ Fetch updated results\n",
    "cursor.execute(f\"\"\"\n",
    "    SELECT trip_id, started_at, ended_at, duration\n",
    "    FROM trip\n",
    "    WHERE trip_id IN ({','.join('?'*len(trip_ids))});\n",
    "\"\"\", trip_ids)\n",
    "\n",
    "rows = cursor.fetchall()\n",
    "\n",
    "# ✅ Print results\n",
    "for row in rows:\n",
    "    print(row)\n",
    "\n",
    "conn.close()\n"
   ]
  },
  {
   "cell_type": "code",
   "execution_count": 4,
   "id": "45355142-b42a-4a29-917f-fc729e1079d5",
   "metadata": {},
   "outputs": [
    {
     "name": "stdout",
     "output_type": "stream",
     "text": [
      "Shortest trip duration recorded in the database: 0:00:00\n"
     ]
    }
   ],
   "source": [
    "import sqlite3\n",
    "\n",
    "# Connect to the database\n",
    "conn = sqlite3.connect('coursework2.db')\n",
    "cursor = conn.cursor()\n",
    "\n",
    "cursor.execute(\"\"\"\n",
    "        SELECT duration\n",
    "        FROM trip\n",
    "        WHERE duration IS NOT NULL AND duration != ''\n",
    "        ORDER BY \n",
    "            CAST(substr(duration, 1, instr(duration, ':') - 1) AS INTEGER) * 3600 +\n",
    "            CAST(substr(duration, instr(duration, ':') + 1, instr(substr(duration, instr(duration, ':') + 1), ':') - 1) AS INTEGER) * 60 +\n",
    "            CAST(substr(duration, length(duration) - 1, 2) AS INTEGER)\n",
    "        ASC\n",
    "        LIMIT 1;\n",
    "    \"\"\")\n",
    "\n",
    "result = cursor.fetchone()\n",
    "\n",
    "if result:\n",
    "    print(\"Shortest trip duration recorded in the database:\", result[0])\n",
    "else:\n",
    "    print(\"No valid duration records found.\")\n",
    "\n",
    "conn.close()\n"
   ]
  },
  {
   "cell_type": "code",
   "execution_count": 50,
   "id": "dd3db5e1-62fc-4961-a7c0-eb2a5c6d2042",
   "metadata": {},
   "outputs": [
    {
     "name": "stdout",
     "output_type": "stream",
     "text": [
      "Number of trips with duration = '0:00:00': 144\n"
     ]
    }
   ],
   "source": [
    "import sqlite3\n",
    "\n",
    "# Connect to the database\n",
    "conn = sqlite3.connect('coursework2.db')\n",
    "cursor = conn.cursor()\n",
    "\n",
    "# Count durations equal to '00:00:00'\n",
    "cursor.execute(\"SELECT COUNT(*) FROM trip WHERE duration = '0:00:00';\")\n",
    "count = cursor.fetchone()[0]\n",
    "\n",
    "print(\"Number of trips with duration = '0:00:00':\", count)\n",
    "\n",
    "conn.close()\n"
   ]
  },
  {
   "cell_type": "code",
   "execution_count": 15,
   "id": "ff993b7e-fe63-48eb-9751-800425f1c98e",
   "metadata": {},
   "outputs": [],
   "source": [
    "import sqlite3\n",
    "\n",
    "# Connect to the database\n",
    "conn = sqlite3.connect('coursework2.db')\n",
    "cursor = conn.cursor()\n",
    "\n",
    "# ✅ Count missing durations excluding '00:00:00'\n",
    "cursor.execute(\"\"\"\n",
    "    SELECT COUNT(*)\n",
    "    FROM trip\n",
    "    WHERE (duration IS NULL OR duration = '')\n",
    "      AND (duration != '00:00:00');\n",
    "\"\"\")\n",
    "missing_count = cursor.fetchone()[0]\n",
    "\n",
    "print(f\"Number of missing duration values (excluding '00:00:00'): {missing_count}\")\n",
    "\n",
    "# ✅ Fetch rows with missing duration values\n",
    "cursor.execute(\"\"\"\n",
    "    SELECT trip_id, started_at, ended_at\n",
    "    FROM trip\n",
    "    WHERE (duration IS NULL OR duration = '')\n",
    "      AND (duration != '00:00:00');\n",
    "\"\"\")\n",
    "rows = cursor.fetchall()\n",
    "\n",
    "print(\"\\nTrips with missing durations:\")\n",
    "for row in rows:\n",
    "    print(row)\n",
    "\n",
    "conn.close()\n"
   ]
  },
  {
   "cell_type": "code",
   "execution_count": 30,
   "id": "57e508d2-d78b-4196-82b7-ad3c1192ec54",
   "metadata": {},
   "outputs": [
    {
     "name": "stdout",
     "output_type": "stream",
     "text": [
      "NULL values: 0\n",
      "Empty strings: 2070\n",
      "Total rows: 34226\n"
     ]
    }
   ],
   "source": [
    "import sqlite3\n",
    "\n",
    "# Connect to the database\n",
    "conn = sqlite3.connect('coursework2.db')\n",
    "cursor = conn.cursor()\n",
    "cursor.execute(\"\"\"\n",
    "    SELECT\n",
    "      SUM(CASE WHEN end_location_name IS NULL THEN 1 ELSE 0 END) AS null_count,\n",
    "      SUM(CASE WHEN end_location_name = '' THEN 1 ELSE 0 END) AS empty_string_count,\n",
    "      COUNT(*) AS total_rows\n",
    "    FROM trip;\n",
    "\"\"\")\n",
    "\n",
    "null_count, empty_count, total_rows = cursor.fetchone()\n",
    "print(f\"NULL values: {null_count}\")\n",
    "print(f\"Empty strings: {empty_count}\")\n",
    "print(f\"Total rows: {total_rows}\")\n",
    "\n",
    "\n",
    "conn.close()\n"
   ]
  },
  {
   "cell_type": "code",
   "execution_count": 8,
   "id": "9c5519ed-e964-426d-ac22-96d70a0ec5bd",
   "metadata": {},
   "outputs": [
    {
     "name": "stdout",
     "output_type": "stream",
     "text": [
      "NULL values: 0\n",
      "Empty strings: 2070\n",
      "Total rows: 34226\n",
      "Most frequent start_location_name: 1898 Mountain Rd NW, Albuquerque, NM 87104, USA (count: 1210)\n",
      "Most frequent end_location_name: 1898 Mountain Rd NW, Albuquerque, NM 87104, USA (count: 802)\n"
     ]
    }
   ],
   "source": [
    "import sqlite3\n",
    "\n",
    "# Connect to the database\n",
    "conn = sqlite3.connect('coursework2.db')\n",
    "cursor = conn.cursor()\n",
    "\n",
    "# Count NULLs and empty strings in end_location_name\n",
    "cursor.execute(\"\"\"\n",
    "    SELECT\n",
    "      SUM(CASE WHEN end_location_name IS NULL THEN 1 ELSE 0 END) AS null_count,\n",
    "      SUM(CASE WHEN end_location_name = '' THEN 1 ELSE 0 END) AS empty_string_count,\n",
    "      COUNT(*) AS total_rows\n",
    "    FROM trip;\n",
    "\"\"\")\n",
    "null_count, empty_count, total_rows = cursor.fetchone()\n",
    "print(f\"NULL values: {null_count}\")\n",
    "print(f\"Empty strings: {empty_count}\")\n",
    "print(f\"Total rows: {total_rows}\")\n",
    "\n",
    "# Most frequent start_location_name\n",
    "cursor.execute(\"\"\"\n",
    "    SELECT start_location_name, COUNT(*) AS cnt\n",
    "    FROM trip\n",
    "    WHERE start_location_name IS NOT NULL AND start_location_name != ''\n",
    "    GROUP BY start_location_name\n",
    "    ORDER BY cnt DESC\n",
    "    LIMIT 1;\n",
    "\"\"\")\n",
    "most_freq_start, start_count = cursor.fetchone()\n",
    "print(f\"Most frequent start_location_name: {most_freq_start} (count: {start_count})\")\n",
    "\n",
    "# Most frequent end_location_name\n",
    "cursor.execute(\"\"\"\n",
    "    SELECT end_location_name, COUNT(*) AS cnt\n",
    "    FROM trip\n",
    "    WHERE end_location_name IS NOT NULL AND end_location_name != ''\n",
    "    GROUP BY end_location_name\n",
    "    ORDER BY cnt DESC\n",
    "    LIMIT 1;\n",
    "\"\"\")\n",
    "most_freq_end, end_count = cursor.fetchone()\n",
    "print(f\"Most frequent end_location_name: {most_freq_end} (count: {end_count})\")\n",
    "\n",
    "conn.close()\n"
   ]
  },
  {
   "cell_type": "code",
   "execution_count": null,
   "id": "baa1a6d8-dc88-43c9-8c26-18147526454b",
   "metadata": {},
   "outputs": [],
   "source": [
    "NULL values: 0\n",
    "Empty strings: 0\n",
    "Total rows: 34226\n",
    "Most frequent start_location_name: 1898 Mountain Rd NW, Albuquerque, NM 87104, USA (count: 1216)\n",
    "Most frequent end_location_name: 1898 Mountain Rd NW, Albuquerque, NM 87104, USA (count: 880)"
   ]
  },
  {
   "cell_type": "code",
   "execution_count": 32,
   "id": "cf999602-c54e-43b2-8739-5f803e8eacec",
   "metadata": {},
   "outputs": [
    {
     "name": "stdout",
     "output_type": "stream",
     "text": [
      "NULL values: 0\n",
      "Empty strings: 6\n",
      "Total rows: 34226\n"
     ]
    }
   ],
   "source": [
    "import sqlite3\n",
    "\n",
    "# Connect to the database\n",
    "conn = sqlite3.connect('coursework2.db')\n",
    "cursor = conn.cursor()\n",
    "cursor.execute(\"\"\"\n",
    "    SELECT\n",
    "      SUM(CASE WHEN start_location_name IS NULL THEN 1 ELSE 0 END) AS null_count,\n",
    "      SUM(CASE WHEN start_location_name = '' THEN 1 ELSE 0 END) AS empty_string_count,\n",
    "      COUNT(*) AS total_rows\n",
    "    FROM trip;\n",
    "\"\"\")\n",
    "\n",
    "null_count, empty_count, total_rows = cursor.fetchone()\n",
    "print(f\"NULL values: {null_count}\")\n",
    "print(f\"Empty strings: {empty_count}\")\n",
    "print(f\"Total rows: {total_rows}\")\n",
    "\n",
    "\n",
    "conn.close()\n"
   ]
  },
  {
   "cell_type": "code",
   "execution_count": null,
   "id": "81ba5e91-a00d-41b4-a189-5a7b5350d463",
   "metadata": {},
   "outputs": [],
   "source": []
  }
 ],
 "metadata": {
  "kernelspec": {
   "display_name": "Python 3 (ipykernel)",
   "language": "python",
   "name": "python3"
  },
  "language_info": {
   "codemirror_mode": {
    "name": "ipython",
    "version": 3
   },
   "file_extension": ".py",
   "mimetype": "text/x-python",
   "name": "python",
   "nbconvert_exporter": "python",
   "pygments_lexer": "ipython3",
   "version": "3.12.4"
  }
 },
 "nbformat": 4,
 "nbformat_minor": 5
}
