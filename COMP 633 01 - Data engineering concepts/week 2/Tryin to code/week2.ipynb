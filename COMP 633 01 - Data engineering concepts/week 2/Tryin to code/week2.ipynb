{
 "cells": [
  {
   "cell_type": "code",
   "execution_count": 1,
   "id": "64f5573c-250f-43fb-a4a2-1d9ff8a3a556",
   "metadata": {},
   "outputs": [],
   "source": [
    "from pathlib import Path\n",
    "import sqlite3\n",
    "import pandas as pd\n"
   ]
  },
  {
   "cell_type": "code",
   "execution_count": 3,
   "id": "c62d6d98-16fe-4e2f-9d1d-87448344ca37",
   "metadata": {},
   "outputs": [
    {
     "data": {
      "text/html": [
       "<div>\n",
       "<style scoped>\n",
       "    .dataframe tbody tr th:only-of-type {\n",
       "        vertical-align: middle;\n",
       "    }\n",
       "\n",
       "    .dataframe tbody tr th {\n",
       "        vertical-align: top;\n",
       "    }\n",
       "\n",
       "    .dataframe thead th {\n",
       "        text-align: right;\n",
       "    }\n",
       "</style>\n",
       "<table border=\"1\" class=\"dataframe\">\n",
       "  <thead>\n",
       "    <tr style=\"text-align: right;\">\n",
       "      <th></th>\n",
       "      <th>trip_id</th>\n",
       "      <th>month</th>\n",
       "      <th>vehicle_id</th>\n",
       "      <th>started_at</th>\n",
       "      <th>ended_at</th>\n",
       "      <th>DURATION</th>\n",
       "      <th>trip_ledger_id</th>\n",
       "      <th>user_id</th>\n",
       "      <th>start_location_name</th>\n",
       "      <th>end_location_name</th>\n",
       "    </tr>\n",
       "  </thead>\n",
       "  <tbody>\n",
       "    <tr>\n",
       "      <th>0</th>\n",
       "      <td>1613335</td>\n",
       "      <td>May</td>\n",
       "      <td>9424537</td>\n",
       "      <td>5/21/2019 18:33</td>\n",
       "      <td>5/21/2019 18:40</td>\n",
       "      <td>0:07:03</td>\n",
       "      <td>1488546</td>\n",
       "      <td>8417864</td>\n",
       "      <td>1901 Roma Ave NE, Albuquerque, NM 87106, USA</td>\n",
       "      <td>1899 Roma Ave NE, Albuquerque, NM 87106, USA</td>\n",
       "    </tr>\n",
       "    <tr>\n",
       "      <th>1</th>\n",
       "      <td>1613639</td>\n",
       "      <td>May</td>\n",
       "      <td>9424537</td>\n",
       "      <td>5/21/2019 19:07</td>\n",
       "      <td>5/21/2019 19:12</td>\n",
       "      <td>0:04:57</td>\n",
       "      <td>1488838</td>\n",
       "      <td>8417864</td>\n",
       "      <td>1 Domenici Center en Domenici Center, Albuquer...</td>\n",
       "      <td>1111 Stanford Dr NE, Albuquerque, NM 87106, USA</td>\n",
       "    </tr>\n",
       "    <tr>\n",
       "      <th>2</th>\n",
       "      <td>1613708</td>\n",
       "      <td>May</td>\n",
       "      <td>9424537</td>\n",
       "      <td>5/21/2019 19:13</td>\n",
       "      <td>5/21/2019 19:15</td>\n",
       "      <td>0:01:14</td>\n",
       "      <td>1488851</td>\n",
       "      <td>8417864</td>\n",
       "      <td>1 Domenici Center en Domenici Center, Albuquer...</td>\n",
       "      <td>1 Domenici Center en Domenici Center, Albuquer...</td>\n",
       "    </tr>\n",
       "    <tr>\n",
       "      <th>3</th>\n",
       "      <td>1613867</td>\n",
       "      <td>May</td>\n",
       "      <td>9424537</td>\n",
       "      <td>5/21/2019 19:29</td>\n",
       "      <td>5/21/2019 19:36</td>\n",
       "      <td>0:06:58</td>\n",
       "      <td>1489064</td>\n",
       "      <td>8417864</td>\n",
       "      <td>Rotunda at Science &amp; Technology Park, 801 Univ...</td>\n",
       "      <td>725 University Blvd SE, Albuquerque, NM 87106,...</td>\n",
       "    </tr>\n",
       "    <tr>\n",
       "      <th>4</th>\n",
       "      <td>1636714</td>\n",
       "      <td>May</td>\n",
       "      <td>8926493</td>\n",
       "      <td>5/24/2019 13:38</td>\n",
       "      <td>5/24/2019 13:41</td>\n",
       "      <td>0:03:06</td>\n",
       "      <td>1511212</td>\n",
       "      <td>35436274</td>\n",
       "      <td>401 2nd St NW, Albuquerque, NM 87102, USA</td>\n",
       "      <td>401 2nd St NW, Albuquerque, NM 87102, USA</td>\n",
       "    </tr>\n",
       "  </tbody>\n",
       "</table>\n",
       "</div>"
      ],
      "text/plain": [
       "   trip_id month  vehicle_id       started_at         ended_at DURATION  \\\n",
       "0  1613335   May     9424537  5/21/2019 18:33  5/21/2019 18:40  0:07:03   \n",
       "1  1613639   May     9424537  5/21/2019 19:07  5/21/2019 19:12  0:04:57   \n",
       "2  1613708   May     9424537  5/21/2019 19:13  5/21/2019 19:15  0:01:14   \n",
       "3  1613867   May     9424537  5/21/2019 19:29  5/21/2019 19:36  0:06:58   \n",
       "4  1636714   May     8926493  5/24/2019 13:38  5/24/2019 13:41  0:03:06   \n",
       "\n",
       "  trip_ledger_id   user_id                                start_location_name  \\\n",
       "0        1488546   8417864       1901 Roma Ave NE, Albuquerque, NM 87106, USA   \n",
       "1        1488838   8417864  1 Domenici Center en Domenici Center, Albuquer...   \n",
       "2        1488851   8417864  1 Domenici Center en Domenici Center, Albuquer...   \n",
       "3        1489064   8417864  Rotunda at Science & Technology Park, 801 Univ...   \n",
       "4        1511212  35436274          401 2nd St NW, Albuquerque, NM 87102, USA   \n",
       "\n",
       "                                   end_location_name  \n",
       "0       1899 Roma Ave NE, Albuquerque, NM 87106, USA  \n",
       "1    1111 Stanford Dr NE, Albuquerque, NM 87106, USA  \n",
       "2  1 Domenici Center en Domenici Center, Albuquer...  \n",
       "3  725 University Blvd SE, Albuquerque, NM 87106,...  \n",
       "4          401 2nd St NW, Albuquerque, NM 87102, USA  "
      ]
     },
     "execution_count": 3,
     "metadata": {},
     "output_type": "execute_result"
    }
   ],
   "source": [
    "DB = Path(\"workshop2.db\")\n",
    "with sqlite3.connect(DB) as conn:\n",
    "    df = pd.read_sql_query(\"SELECT * FROM trip LIMIT 20;\", conn)\n",
    "df.head()"
   ]
  },
  {
   "cell_type": "code",
   "execution_count": 13,
   "id": "34ea1803-53f8-4a57-b22a-4277ac124de2",
   "metadata": {},
   "outputs": [
    {
     "name": "stderr",
     "output_type": "stream",
     "text": [
      "C:\\Users\\HP\\AppData\\Local\\Temp\\ipykernel_12636\\1434187163.py:2: DeprecationWarning: version is deprecated and will be removed in Python 3.14\n",
      "  sqlite3.version\n"
     ]
    },
    {
     "data": {
      "text/plain": [
       "'2.6.0'"
      ]
     },
     "execution_count": 13,
     "metadata": {},
     "output_type": "execute_result"
    }
   ],
   "source": [
    "import sqlite3\n",
    "sqlite3.version"
   ]
  },
  {
   "cell_type": "code",
   "execution_count": 53,
   "id": "d2eef4e3-5f98-4062-b4c4-c4519e41bb25",
   "metadata": {},
   "outputs": [
    {
     "data": {
      "text/plain": [
       "'3.45.3'"
      ]
     },
     "execution_count": 53,
     "metadata": {},
     "output_type": "execute_result"
    }
   ],
   "source": [
    "sqlite3.sqlite_version"
   ]
  },
  {
   "cell_type": "code",
   "execution_count": 117,
   "id": "8f348f09-b655-4695-9223-60b8d3811936",
   "metadata": {},
   "outputs": [],
   "source": [
    "conn = sqlite3.connect(\"workshop2.db\")"
   ]
  },
  {
   "cell_type": "code",
   "execution_count": 119,
   "id": "53398785-c27c-465d-84f5-c254f6674394",
   "metadata": {},
   "outputs": [],
   "source": [
    "cursor = conn.cursor()\n"
   ]
  },
  {
   "cell_type": "code",
   "execution_count": 121,
   "id": "dce9dd89-8348-4f69-aa1b-8219d9a36ad5",
   "metadata": {},
   "outputs": [
    {
     "name": "stdout",
     "output_type": "stream",
     "text": [
      "[(1613335, 'May', 9424537, '5/21/2019 18:33', '5/21/2019 18:40', '0:07:03', '1488546', 8417864, '1901 Roma Ave NE, Albuquerque, NM 87106, USA', '1899 Roma Ave NE, Albuquerque, NM 87106, USA'), (1613639, 'May', 9424537, '5/21/2019 19:07', '5/21/2019 19:12', '0:04:57', '1488838', 8417864, '1 Domenici Center en Domenici Center, Albuquerque, NM 87106, USA', '1111 Stanford Dr NE, Albuquerque, NM 87106, USA'), (1613708, 'May', 9424537, '5/21/2019 19:13', '5/21/2019 19:15', '0:01:14', '1488851', 8417864, '1 Domenici Center en Domenici Center, Albuquerque, NM 87106, USA', '1 Domenici Center en Domenici Center, Albuquerque, NM 87106, USA'), (1613867, 'May', 9424537, '5/21/2019 19:29', '5/21/2019 19:36', '0:06:58', '1489064', 8417864, 'Rotunda at Science & Technology Park, 801 University Blvd. SE, 801 University Blvd SE, Albuquerque, NM 87106, USA', '725 University Blvd SE, Albuquerque, NM 87106, USA'), (1636714, 'May', 8926493, '5/24/2019 13:38', '5/24/2019 13:41', '0:03:06', '1511212', 35436274, '401 2nd St NW, Albuquerque, NM 87102, USA', '401 2nd St NW, Albuquerque, NM 87102, USA')]\n",
      "\n",
      "[(1613335, 'May', 9424537, '5/21/2019 18:33', '5/21/2019 18:40', '0:07:03', '1488546', 8417864, '1901 Roma Ave NE, Albuquerque, NM 87106, USA', '1899 Roma Ave NE, Albuquerque, NM 87106, USA'), (1613639, 'May', 9424537, '5/21/2019 19:07', '5/21/2019 19:12', '0:04:57', '1488838', 8417864, '1 Domenici Center en Domenici Center, Albuquerque, NM 87106, USA', '1111 Stanford Dr NE, Albuquerque, NM 87106, USA'), (1613708, 'May', 9424537, '5/21/2019 19:13', '5/21/2019 19:15', '0:01:14', '1488851', 8417864, '1 Domenici Center en Domenici Center, Albuquerque, NM 87106, USA', '1 Domenici Center en Domenici Center, Albuquerque, NM 87106, USA'), (1613867, 'May', 9424537, '5/21/2019 19:29', '5/21/2019 19:36', '0:06:58', '1489064', 8417864, 'Rotunda at Science & Technology Park, 801 University Blvd. SE, 801 University Blvd SE, Albuquerque, NM 87106, USA', '725 University Blvd SE, Albuquerque, NM 87106, USA'), (1636714, 'May', 8926493, '5/24/2019 13:38', '5/24/2019 13:41', '0:03:06', '1511212', 35436274, '401 2nd St NW, Albuquerque, NM 87102, USA', '401 2nd St NW, Albuquerque, NM 87102, USA')]\n",
      "\n",
      "[(1613335, 'May', 9424537, '5/21/2019 18:33', '5/21/2019 18:40', '0:07:03', '1488546', 8417864, '1901 Roma Ave NE, Albuquerque, NM 87106, USA', '1899 Roma Ave NE, Albuquerque, NM 87106, USA'), (1613639, 'May', 9424537, '5/21/2019 19:07', '5/21/2019 19:12', '0:04:57', '1488838', 8417864, '1 Domenici Center en Domenici Center, Albuquerque, NM 87106, USA', '1111 Stanford Dr NE, Albuquerque, NM 87106, USA'), (1613708, 'May', 9424537, '5/21/2019 19:13', '5/21/2019 19:15', '0:01:14', '1488851', 8417864, '1 Domenici Center en Domenici Center, Albuquerque, NM 87106, USA', '1 Domenici Center en Domenici Center, Albuquerque, NM 87106, USA'), (1613867, 'May', 9424537, '5/21/2019 19:29', '5/21/2019 19:36', '0:06:58', '1489064', 8417864, 'Rotunda at Science & Technology Park, 801 University Blvd. SE, 801 University Blvd SE, Albuquerque, NM 87106, USA', '725 University Blvd SE, Albuquerque, NM 87106, USA'), (1681624, 'May', 8192169, '5/27/2019 1:11', '5/27/2019 1:11', '0:00:12', '1554217', 8417864, '2513 Comanche Rd NE, Albuquerque, NM 87107, USA', '2513 Comanche Rd NE, Albuquerque, NM 87107, USA')]\n"
     ]
    }
   ],
   "source": [
    "cursor.execute(\"SELECT * FROM trip\")\n",
    "result = cursor.fetchall()\n",
    "print(result[:5])\n",
    "print()\n",
    "cursor.execute(\"SELECT * FROM trip WHERE LOWER(month) == 'may' LIMIT 5\")\n",
    "result = cursor.fetchall()\n",
    "print(result[:5])\n",
    "print()\n",
    "cursor.execute(\"SELECT * FROM trip WHERE user_id == 8417864 LIMIT 5\")\n",
    "result = cursor.fetchall()\n",
    "print(result[:5])\n",
    "conn.close()\n"
   ]
  },
  {
   "cell_type": "code",
   "execution_count": null,
   "id": "0baa39e4-7cbf-49e8-a239-08daca7838ad",
   "metadata": {},
   "outputs": [],
   "source": []
  },
  {
   "cell_type": "code",
   "execution_count": null,
   "id": "1675f5c0-60db-4384-8c3c-e2ee69e0d4e9",
   "metadata": {},
   "outputs": [],
   "source": []
  },
  {
   "cell_type": "code",
   "execution_count": null,
   "id": "9ad1ca91-0461-4527-8549-264ce71b35dd",
   "metadata": {},
   "outputs": [],
   "source": []
  },
  {
   "cell_type": "code",
   "execution_count": null,
   "id": "495fdd1f-0d31-4d23-aabf-aee5f27f90bb",
   "metadata": {},
   "outputs": [],
   "source": []
  },
  {
   "cell_type": "code",
   "execution_count": null,
   "id": "a34403ba-8924-4c49-a6bd-fd686d588679",
   "metadata": {},
   "outputs": [],
   "source": []
  },
  {
   "cell_type": "code",
   "execution_count": 21,
   "id": "bf87963b-bccb-4466-9b5d-599315c3e1bd",
   "metadata": {},
   "outputs": [
    {
     "name": "stdout",
     "output_type": "stream",
     "text": [
      "Help on Cursor in module sqlite3 object:\n",
      "\n",
      "class Cursor(builtins.object)\n",
      " |  SQLite database cursor class.\n",
      " |\n",
      " |  Methods defined here:\n",
      " |\n",
      " |  __init__(self, /, *args, **kwargs)\n",
      " |      Initialize self.  See help(type(self)) for accurate signature.\n",
      " |\n",
      " |  __iter__(self, /)\n",
      " |      Implement iter(self).\n",
      " |\n",
      " |  __next__(self, /)\n",
      " |      Implement next(self).\n",
      " |\n",
      " |  close(self, /)\n",
      " |      Closes the cursor.\n",
      " |\n",
      " |  execute(self, sql, parameters=(), /)\n",
      " |      Executes an SQL statement.\n",
      " |\n",
      " |  executemany(self, sql, seq_of_parameters, /)\n",
      " |      Repeatedly executes an SQL statement.\n",
      " |\n",
      " |  executescript(self, sql_script, /)\n",
      " |      Executes multiple SQL statements at once.\n",
      " |\n",
      " |  fetchall(self, /)\n",
      " |      Fetches all rows from the resultset.\n",
      " |\n",
      " |  fetchmany(self, /, size=1)\n",
      " |      Fetches several rows from the resultset.\n",
      " |\n",
      " |      size\n",
      " |        The default value is set by the Cursor.arraysize attribute.\n",
      " |\n",
      " |  fetchone(self, /)\n",
      " |      Fetches one row from the resultset.\n",
      " |\n",
      " |  setinputsizes(self, sizes, /)\n",
      " |      Required by DB-API. Does nothing in sqlite3.\n",
      " |\n",
      " |  setoutputsize(self, size, column=None, /)\n",
      " |      Required by DB-API. Does nothing in sqlite3.\n",
      " |\n",
      " |  ----------------------------------------------------------------------\n",
      " |  Data descriptors defined here:\n",
      " |\n",
      " |  arraysize\n",
      " |\n",
      " |  connection\n",
      " |\n",
      " |  description\n",
      " |\n",
      " |  lastrowid\n",
      " |\n",
      " |  row_factory\n",
      " |\n",
      " |  rowcount\n",
      "\n"
     ]
    }
   ],
   "source": [
    "help(conn.cursor())\n"
   ]
  },
  {
   "cell_type": "code",
   "execution_count": null,
   "id": "c54a9c5f-789a-436d-9ed6-b83f48966dec",
   "metadata": {},
   "outputs": [],
   "source": []
  }
 ],
 "metadata": {
  "kernelspec": {
   "display_name": "Python 3 (ipykernel)",
   "language": "python",
   "name": "python3"
  },
  "language_info": {
   "codemirror_mode": {
    "name": "ipython",
    "version": 3
   },
   "file_extension": ".py",
   "mimetype": "text/x-python",
   "name": "python",
   "nbconvert_exporter": "python",
   "pygments_lexer": "ipython3",
   "version": "3.12.4"
  }
 },
 "nbformat": 4,
 "nbformat_minor": 5
}
